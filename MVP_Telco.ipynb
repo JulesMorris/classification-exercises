{
 "cells": [
  {
   "cell_type": "code",
   "execution_count": 1,
   "id": "bb5c93e7",
   "metadata": {
    "hide_input": false
   },
   "outputs": [],
   "source": [
    "# ignore warnings\n",
    "import warnings\n",
    "warnings.filterwarnings(\"ignore\")\n",
    "\n",
    "import numpy as np\n",
    "import pandas as pd\n",
    "import prepare3\n",
    "import acquire2\n",
    "import matplotlib.ticker as mtick\n",
    "import inflection\n",
    "\n",
    "from itertools import cycle, islice\n",
    "from matplotlib import cm\n",
    "from scipy import stats\n",
    "from sklearn.linear_model import LogisticRegression\n",
    "from sklearn.neighbors import KNeighborsClassifier\n",
    "from sklearn.model_selection import train_test_split\n",
    "from sklearn.ensemble import RandomForestClassifier\n",
    "from sklearn.tree import DecisionTreeClassifier, plot_tree\n",
    "from sklearn.metrics import classification_report\n",
    "from sklearn.metrics import confusion_matrix\n",
    "\n",
    "import matplotlib.pyplot as plt\n",
    "import seaborn as sns"
   ]
  },
  {
   "cell_type": "markdown",
   "id": "84b29b2e",
   "metadata": {},
   "source": [
    "# Project Planning"
   ]
  },
  {
   "cell_type": "markdown",
   "id": "d1ca866e",
   "metadata": {},
   "source": [
    "   - Acquire data from the Codeup Database and store the process as a function for replication. Save the function in an acquire.py file to import into the Final Report Notebook.\n",
    "   - View data to gain understanding of the dataset and to create the read.   \n",
    "   - Create README.md with data dictionary, project and business goals, come up with initial hypotheses.   \n",
    "   - Clean and prepare data for the first iteration through the data pipeline. Store this as a function to automate the process, store the function in a prepare.py module, and prepare data in Final Report Notebook by importing and using the funtion.\n",
    "   - Clearly define two hypotheses, set an alpha, run the statistical tests needed, reject or fail to reject the Null Hypothesis, and document findings and takeaways.\n",
    "   - Establish a baseline accuracy and document well.\n",
    "   - Train four different classification models.\n",
    "   - Evaluate models on train and validate datasets.\n",
    "   - Choose the model with that performs the best and evaluate that single model on the test dataset.\n",
    "   - Create csv file with the target variable, the probability of churn, and the model's prediction for each observation in the test dataset.\n",
    "   - Document executive summary, conclusions, takeaways, and next steps in the Final Report Notebook.\n"
   ]
  },
  {
   "cell_type": "markdown",
   "id": "082b0aa3",
   "metadata": {},
   "source": [
    "# Executive Summary"
   ]
  },
  {
   "cell_type": "markdown",
   "id": "c8f2bc89",
   "metadata": {},
   "source": [
    "# Data Acquisition"
   ]
  },
  {
   "cell_type": "code",
   "execution_count": 2,
   "id": "8f31a25f",
   "metadata": {
    "hide_input": true,
    "scrolled": true
   },
   "outputs": [
    {
     "name": "stdout",
     "output_type": "stream",
     "text": [
      "Using cached csv\n"
     ]
    },
    {
     "data": {
      "text/html": [
       "<div>\n",
       "<style scoped>\n",
       "    .dataframe tbody tr th:only-of-type {\n",
       "        vertical-align: middle;\n",
       "    }\n",
       "\n",
       "    .dataframe tbody tr th {\n",
       "        vertical-align: top;\n",
       "    }\n",
       "\n",
       "    .dataframe thead th {\n",
       "        text-align: right;\n",
       "    }\n",
       "</style>\n",
       "<table border=\"1\" class=\"dataframe\">\n",
       "  <thead>\n",
       "    <tr style=\"text-align: right;\">\n",
       "      <th></th>\n",
       "      <th>payment_type_id</th>\n",
       "      <th>contract_type_id</th>\n",
       "      <th>internet_service_type_id</th>\n",
       "      <th>customer_id</th>\n",
       "      <th>gender</th>\n",
       "      <th>senior_citizen</th>\n",
       "      <th>partner</th>\n",
       "      <th>dependents</th>\n",
       "      <th>tenure</th>\n",
       "      <th>phone_service</th>\n",
       "      <th>...</th>\n",
       "      <th>tech_support</th>\n",
       "      <th>streaming_tv</th>\n",
       "      <th>streaming_movies</th>\n",
       "      <th>paperless_billing</th>\n",
       "      <th>monthly_charges</th>\n",
       "      <th>total_charges</th>\n",
       "      <th>churn</th>\n",
       "      <th>internet_service_type</th>\n",
       "      <th>contract_type</th>\n",
       "      <th>payment_type</th>\n",
       "    </tr>\n",
       "  </thead>\n",
       "  <tbody>\n",
       "    <tr>\n",
       "      <th>0</th>\n",
       "      <td>2</td>\n",
       "      <td>2</td>\n",
       "      <td>1</td>\n",
       "      <td>0002-ORFBO</td>\n",
       "      <td>Female</td>\n",
       "      <td>0</td>\n",
       "      <td>Yes</td>\n",
       "      <td>Yes</td>\n",
       "      <td>9</td>\n",
       "      <td>Yes</td>\n",
       "      <td>...</td>\n",
       "      <td>Yes</td>\n",
       "      <td>Yes</td>\n",
       "      <td>No</td>\n",
       "      <td>Yes</td>\n",
       "      <td>65.6</td>\n",
       "      <td>593.3</td>\n",
       "      <td>No</td>\n",
       "      <td>DSL</td>\n",
       "      <td>One year</td>\n",
       "      <td>Mailed check</td>\n",
       "    </tr>\n",
       "    <tr>\n",
       "      <th>1</th>\n",
       "      <td>2</td>\n",
       "      <td>1</td>\n",
       "      <td>1</td>\n",
       "      <td>0003-MKNFE</td>\n",
       "      <td>Male</td>\n",
       "      <td>0</td>\n",
       "      <td>No</td>\n",
       "      <td>No</td>\n",
       "      <td>9</td>\n",
       "      <td>Yes</td>\n",
       "      <td>...</td>\n",
       "      <td>No</td>\n",
       "      <td>No</td>\n",
       "      <td>Yes</td>\n",
       "      <td>No</td>\n",
       "      <td>59.9</td>\n",
       "      <td>542.4</td>\n",
       "      <td>No</td>\n",
       "      <td>DSL</td>\n",
       "      <td>Month-to-month</td>\n",
       "      <td>Mailed check</td>\n",
       "    </tr>\n",
       "    <tr>\n",
       "      <th>2</th>\n",
       "      <td>1</td>\n",
       "      <td>1</td>\n",
       "      <td>2</td>\n",
       "      <td>0004-TLHLJ</td>\n",
       "      <td>Male</td>\n",
       "      <td>0</td>\n",
       "      <td>No</td>\n",
       "      <td>No</td>\n",
       "      <td>4</td>\n",
       "      <td>Yes</td>\n",
       "      <td>...</td>\n",
       "      <td>No</td>\n",
       "      <td>No</td>\n",
       "      <td>No</td>\n",
       "      <td>Yes</td>\n",
       "      <td>73.9</td>\n",
       "      <td>280.85</td>\n",
       "      <td>Yes</td>\n",
       "      <td>Fiber optic</td>\n",
       "      <td>Month-to-month</td>\n",
       "      <td>Electronic check</td>\n",
       "    </tr>\n",
       "    <tr>\n",
       "      <th>3</th>\n",
       "      <td>1</td>\n",
       "      <td>1</td>\n",
       "      <td>2</td>\n",
       "      <td>0011-IGKFF</td>\n",
       "      <td>Male</td>\n",
       "      <td>1</td>\n",
       "      <td>Yes</td>\n",
       "      <td>No</td>\n",
       "      <td>13</td>\n",
       "      <td>Yes</td>\n",
       "      <td>...</td>\n",
       "      <td>No</td>\n",
       "      <td>Yes</td>\n",
       "      <td>Yes</td>\n",
       "      <td>Yes</td>\n",
       "      <td>98.0</td>\n",
       "      <td>1237.85</td>\n",
       "      <td>Yes</td>\n",
       "      <td>Fiber optic</td>\n",
       "      <td>Month-to-month</td>\n",
       "      <td>Electronic check</td>\n",
       "    </tr>\n",
       "    <tr>\n",
       "      <th>4</th>\n",
       "      <td>2</td>\n",
       "      <td>1</td>\n",
       "      <td>2</td>\n",
       "      <td>0013-EXCHZ</td>\n",
       "      <td>Female</td>\n",
       "      <td>1</td>\n",
       "      <td>Yes</td>\n",
       "      <td>No</td>\n",
       "      <td>3</td>\n",
       "      <td>Yes</td>\n",
       "      <td>...</td>\n",
       "      <td>Yes</td>\n",
       "      <td>Yes</td>\n",
       "      <td>No</td>\n",
       "      <td>Yes</td>\n",
       "      <td>83.9</td>\n",
       "      <td>267.4</td>\n",
       "      <td>Yes</td>\n",
       "      <td>Fiber optic</td>\n",
       "      <td>Month-to-month</td>\n",
       "      <td>Mailed check</td>\n",
       "    </tr>\n",
       "  </tbody>\n",
       "</table>\n",
       "<p>5 rows × 24 columns</p>\n",
       "</div>"
      ],
      "text/plain": [
       "   payment_type_id  contract_type_id  internet_service_type_id customer_id  \\\n",
       "0                2                 2                         1  0002-ORFBO   \n",
       "1                2                 1                         1  0003-MKNFE   \n",
       "2                1                 1                         2  0004-TLHLJ   \n",
       "3                1                 1                         2  0011-IGKFF   \n",
       "4                2                 1                         2  0013-EXCHZ   \n",
       "\n",
       "   gender  senior_citizen partner dependents  tenure phone_service  ...  \\\n",
       "0  Female               0     Yes        Yes       9           Yes  ...   \n",
       "1    Male               0      No         No       9           Yes  ...   \n",
       "2    Male               0      No         No       4           Yes  ...   \n",
       "3    Male               1     Yes         No      13           Yes  ...   \n",
       "4  Female               1     Yes         No       3           Yes  ...   \n",
       "\n",
       "  tech_support streaming_tv streaming_movies paperless_billing  \\\n",
       "0          Yes          Yes               No               Yes   \n",
       "1           No           No              Yes                No   \n",
       "2           No           No               No               Yes   \n",
       "3           No          Yes              Yes               Yes   \n",
       "4          Yes          Yes               No               Yes   \n",
       "\n",
       "  monthly_charges total_charges churn internet_service_type   contract_type  \\\n",
       "0            65.6         593.3    No                   DSL        One year   \n",
       "1            59.9         542.4    No                   DSL  Month-to-month   \n",
       "2            73.9        280.85   Yes           Fiber optic  Month-to-month   \n",
       "3            98.0       1237.85   Yes           Fiber optic  Month-to-month   \n",
       "4            83.9         267.4   Yes           Fiber optic  Month-to-month   \n",
       "\n",
       "       payment_type  \n",
       "0      Mailed check  \n",
       "1      Mailed check  \n",
       "2  Electronic check  \n",
       "3  Electronic check  \n",
       "4      Mailed check  \n",
       "\n",
       "[5 rows x 24 columns]"
      ]
     },
     "execution_count": 2,
     "metadata": {},
     "output_type": "execute_result"
    }
   ],
   "source": [
    "df = acquire2.get_telco_data(use_cache = True)\n",
    "df.head()"
   ]
  },
  {
   "cell_type": "markdown",
   "id": "66710b82",
   "metadata": {},
   "source": [
    "#### Takeaways:\n",
    "- Will use a prepare file to drop payment_type_id, contract_type_id, and internet_service_type_id\n",
    "- After confirming that customer_id is all unique values using, **df.customer_id.unique().shape**, will use prepare file to set it as the index\n",
    "- Change senior_citizen to categorical for continuity in categorical variables\n",
    "- Will use prepare file to obtain dummy variables \n",
    "- Will use prepare file to ensure lowercase snake_case format \n",
    "- Will eliminate '(automatic)' from payment types for plot label ease\n",
    "- Will use replace to reduce likelihood of multicolinearity in eventual dummy variables"
   ]
  },
  {
   "cell_type": "markdown",
   "id": "c8b4b0fa",
   "metadata": {},
   "source": [
    "# Data Preparation"
   ]
  },
  {
   "cell_type": "code",
   "execution_count": 3,
   "id": "c2800933",
   "metadata": {
    "hide_input": false
   },
   "outputs": [
    {
     "data": {
      "text/html": [
       "<div>\n",
       "<style scoped>\n",
       "    .dataframe tbody tr th:only-of-type {\n",
       "        vertical-align: middle;\n",
       "    }\n",
       "\n",
       "    .dataframe tbody tr th {\n",
       "        vertical-align: top;\n",
       "    }\n",
       "\n",
       "    .dataframe thead th {\n",
       "        text-align: right;\n",
       "    }\n",
       "</style>\n",
       "<table border=\"1\" class=\"dataframe\">\n",
       "  <thead>\n",
       "    <tr style=\"text-align: right;\">\n",
       "      <th></th>\n",
       "      <th>gender</th>\n",
       "      <th>senior_citizen</th>\n",
       "      <th>partner</th>\n",
       "      <th>dependents</th>\n",
       "      <th>tenure</th>\n",
       "      <th>phone_service</th>\n",
       "      <th>multiple_lines</th>\n",
       "      <th>online_security</th>\n",
       "      <th>online_backup</th>\n",
       "      <th>device_protection</th>\n",
       "      <th>...</th>\n",
       "      <th>tech_support_yes</th>\n",
       "      <th>streaming_tv_yes</th>\n",
       "      <th>streaming_movies_yes</th>\n",
       "      <th>contract_type_one_year</th>\n",
       "      <th>contract_type_two_year</th>\n",
       "      <th>internet_service_type_fiber_optic</th>\n",
       "      <th>internet_service_type_none</th>\n",
       "      <th>payment_type_credit_card</th>\n",
       "      <th>payment_type_electronic_check</th>\n",
       "      <th>payment_type_mailed_check</th>\n",
       "    </tr>\n",
       "    <tr>\n",
       "      <th>customer_id</th>\n",
       "      <th></th>\n",
       "      <th></th>\n",
       "      <th></th>\n",
       "      <th></th>\n",
       "      <th></th>\n",
       "      <th></th>\n",
       "      <th></th>\n",
       "      <th></th>\n",
       "      <th></th>\n",
       "      <th></th>\n",
       "      <th></th>\n",
       "      <th></th>\n",
       "      <th></th>\n",
       "      <th></th>\n",
       "      <th></th>\n",
       "      <th></th>\n",
       "      <th></th>\n",
       "      <th></th>\n",
       "      <th></th>\n",
       "      <th></th>\n",
       "      <th></th>\n",
       "    </tr>\n",
       "  </thead>\n",
       "  <tbody>\n",
       "    <tr>\n",
       "      <th>8331-ZXFOE</th>\n",
       "      <td>Female</td>\n",
       "      <td>No</td>\n",
       "      <td>No</td>\n",
       "      <td>No</td>\n",
       "      <td>58</td>\n",
       "      <td>Yes</td>\n",
       "      <td>Yes</td>\n",
       "      <td>Yes</td>\n",
       "      <td>Yes</td>\n",
       "      <td>Yes</td>\n",
       "      <td>...</td>\n",
       "      <td>1</td>\n",
       "      <td>0</td>\n",
       "      <td>0</td>\n",
       "      <td>1</td>\n",
       "      <td>0</td>\n",
       "      <td>0</td>\n",
       "      <td>0</td>\n",
       "      <td>1</td>\n",
       "      <td>0</td>\n",
       "      <td>0</td>\n",
       "    </tr>\n",
       "    <tr>\n",
       "      <th>2790-XUYMV</th>\n",
       "      <td>Male</td>\n",
       "      <td>No</td>\n",
       "      <td>No</td>\n",
       "      <td>Yes</td>\n",
       "      <td>71</td>\n",
       "      <td>Yes</td>\n",
       "      <td>Yes</td>\n",
       "      <td>Yes</td>\n",
       "      <td>Yes</td>\n",
       "      <td>No</td>\n",
       "      <td>...</td>\n",
       "      <td>0</td>\n",
       "      <td>0</td>\n",
       "      <td>0</td>\n",
       "      <td>1</td>\n",
       "      <td>0</td>\n",
       "      <td>1</td>\n",
       "      <td>0</td>\n",
       "      <td>1</td>\n",
       "      <td>0</td>\n",
       "      <td>0</td>\n",
       "    </tr>\n",
       "    <tr>\n",
       "      <th>7107-UBYKY</th>\n",
       "      <td>Female</td>\n",
       "      <td>No</td>\n",
       "      <td>Yes</td>\n",
       "      <td>Yes</td>\n",
       "      <td>35</td>\n",
       "      <td>Yes</td>\n",
       "      <td>Yes</td>\n",
       "      <td>No</td>\n",
       "      <td>No</td>\n",
       "      <td>No</td>\n",
       "      <td>...</td>\n",
       "      <td>0</td>\n",
       "      <td>0</td>\n",
       "      <td>0</td>\n",
       "      <td>0</td>\n",
       "      <td>0</td>\n",
       "      <td>0</td>\n",
       "      <td>1</td>\n",
       "      <td>0</td>\n",
       "      <td>1</td>\n",
       "      <td>0</td>\n",
       "    </tr>\n",
       "    <tr>\n",
       "      <th>3373-YZZYM</th>\n",
       "      <td>Male</td>\n",
       "      <td>No</td>\n",
       "      <td>Yes</td>\n",
       "      <td>Yes</td>\n",
       "      <td>1</td>\n",
       "      <td>Yes</td>\n",
       "      <td>No</td>\n",
       "      <td>No</td>\n",
       "      <td>No</td>\n",
       "      <td>No</td>\n",
       "      <td>...</td>\n",
       "      <td>0</td>\n",
       "      <td>0</td>\n",
       "      <td>0</td>\n",
       "      <td>0</td>\n",
       "      <td>0</td>\n",
       "      <td>0</td>\n",
       "      <td>1</td>\n",
       "      <td>0</td>\n",
       "      <td>0</td>\n",
       "      <td>1</td>\n",
       "    </tr>\n",
       "    <tr>\n",
       "      <th>8883-GRDWQ</th>\n",
       "      <td>Male</td>\n",
       "      <td>Yes</td>\n",
       "      <td>No</td>\n",
       "      <td>No</td>\n",
       "      <td>20</td>\n",
       "      <td>Yes</td>\n",
       "      <td>No</td>\n",
       "      <td>Yes</td>\n",
       "      <td>No</td>\n",
       "      <td>No</td>\n",
       "      <td>...</td>\n",
       "      <td>1</td>\n",
       "      <td>0</td>\n",
       "      <td>0</td>\n",
       "      <td>1</td>\n",
       "      <td>0</td>\n",
       "      <td>0</td>\n",
       "      <td>0</td>\n",
       "      <td>0</td>\n",
       "      <td>0</td>\n",
       "      <td>1</td>\n",
       "    </tr>\n",
       "  </tbody>\n",
       "</table>\n",
       "<p>5 rows × 41 columns</p>\n",
       "</div>"
      ],
      "text/plain": [
       "             gender senior_citizen partner dependents  tenure phone_service  \\\n",
       "customer_id                                                                   \n",
       "8331-ZXFOE   Female             No      No         No      58           Yes   \n",
       "2790-XUYMV     Male             No      No        Yes      71           Yes   \n",
       "7107-UBYKY   Female             No     Yes        Yes      35           Yes   \n",
       "3373-YZZYM     Male             No     Yes        Yes       1           Yes   \n",
       "8883-GRDWQ     Male            Yes      No         No      20           Yes   \n",
       "\n",
       "            multiple_lines online_security online_backup device_protection  \\\n",
       "customer_id                                                                  \n",
       "8331-ZXFOE             Yes             Yes           Yes               Yes   \n",
       "2790-XUYMV             Yes             Yes           Yes                No   \n",
       "7107-UBYKY             Yes              No            No                No   \n",
       "3373-YZZYM              No              No            No                No   \n",
       "8883-GRDWQ              No             Yes            No                No   \n",
       "\n",
       "             ... tech_support_yes streaming_tv_yes streaming_movies_yes  \\\n",
       "customer_id  ...                                                          \n",
       "8331-ZXFOE   ...                1                0                    0   \n",
       "2790-XUYMV   ...                0                0                    0   \n",
       "7107-UBYKY   ...                0                0                    0   \n",
       "3373-YZZYM   ...                0                0                    0   \n",
       "8883-GRDWQ   ...                1                0                    0   \n",
       "\n",
       "            contract_type_one_year  contract_type_two_year  \\\n",
       "customer_id                                                  \n",
       "8331-ZXFOE                       1                       0   \n",
       "2790-XUYMV                       1                       0   \n",
       "7107-UBYKY                       0                       0   \n",
       "3373-YZZYM                       0                       0   \n",
       "8883-GRDWQ                       1                       0   \n",
       "\n",
       "             internet_service_type_fiber_optic internet_service_type_none  \\\n",
       "customer_id                                                                 \n",
       "8331-ZXFOE                                   0                          0   \n",
       "2790-XUYMV                                   1                          0   \n",
       "7107-UBYKY                                   0                          1   \n",
       "3373-YZZYM                                   0                          1   \n",
       "8883-GRDWQ                                   0                          0   \n",
       "\n",
       "            payment_type_credit_card payment_type_electronic_check  \\\n",
       "customer_id                                                          \n",
       "8331-ZXFOE                         1                             0   \n",
       "2790-XUYMV                         1                             0   \n",
       "7107-UBYKY                         0                             1   \n",
       "3373-YZZYM                         0                             0   \n",
       "8883-GRDWQ                         0                             0   \n",
       "\n",
       "            payment_type_mailed_check  \n",
       "customer_id                            \n",
       "8331-ZXFOE                          0  \n",
       "2790-XUYMV                          0  \n",
       "7107-UBYKY                          0  \n",
       "3373-YZZYM                          1  \n",
       "8883-GRDWQ                          1  \n",
       "\n",
       "[5 rows x 41 columns]"
      ]
     },
     "execution_count": 3,
     "metadata": {},
     "output_type": "execute_result"
    }
   ],
   "source": [
    "telco_df = prepare3.prep_telco_data(df)\n",
    "train, test, validate = telco_df\n",
    "train.head()"
   ]
  },
  {
   "cell_type": "markdown",
   "id": "cd7ae949",
   "metadata": {},
   "source": [
    "# Exploratory Data Analysis/Statistical Testing"
   ]
  },
  {
   "cell_type": "code",
   "execution_count": 4,
   "id": "5961575b",
   "metadata": {
    "hide_input": true
   },
   "outputs": [
    {
     "data": {
      "image/png": "[encoded data removed]",
      "text/plain": [
       "<Figure size 432x288 with 1 Axes>"
      ]
     },
     "metadata": {
      "needs_background": "light"
     },
     "output_type": "display_data"
    },
    {
     "data": {
      "image/png": "[encoded data removed]",
      "text/plain": [
       "<Figure size 432x288 with 1 Axes>"
      ]
     },
     "metadata": {
      "needs_background": "light"
     },
     "output_type": "display_data"
    },
    {
     "data": {
      "image/png": "[encoded data removed]",
      "text/plain": [
       "<Figure size 432x288 with 1 Axes>"
      ]
     },
     "metadata": {
      "needs_background": "light"
     },
     "output_type": "display_data"
    },
    {
     "data": {
      "image/png": "[encoded data removed]",
      "text/plain": [
       "<Figure size 432x288 with 1 Axes>"
      ]
     },
     "metadata": {
      "needs_background": "light"
     },
     "output_type": "display_data"
    }
   ],
   "source": [
    "#plot numeric columns\n",
    "num_cols = ['tenure', 'monthly_charges', 'total_charges']\n",
    "\n",
    "#train.columns[[train[col].dtype == 'float64' for col in train.columns]]\n",
    "\n",
    "for col in num_cols:\n",
    "    plt.hist(train[col])\n",
    "    plt.title(col)\n",
    "    plt.show()\n",
    "    plt.boxplot(train[col])\n",
    "    plt.title(col)\n",
    "    plt.show"
   ]
  },
  {
   "cell_type": "markdown",
   "id": "28ad919b",
   "metadata": {},
   "source": [
    "#### Visualize Churn on Train Data"
   ]
  },
  {
   "cell_type": "code",
   "execution_count": 5,
   "id": "35614293",
   "metadata": {
    "hide_input": true,
    "tags": [
     "{",
     "[",
     "\"hide-input\"",
     "]",
     "}"
    ]
   },
   "outputs": [],
   "source": [
    "#create data copy on train to work on visualizations\n",
    "data_viz = train.copy()\n",
    "data_viz.loc[:, 'churn'] = data_viz.loc[:, 'churn'].apply(lambda x: 'churn' if x == 'Yes' else 'retain')\n",
    "\n",
    "#create horizontal stacked plot bar\n",
    "#import inflection\n",
    "def stacked_bar_plot(data, x, y, orient = 'horizontal', ax = None, show = True):\n",
    "  # create axis if not present\n",
    "  if ax == None:\n",
    "    _, ax = plt.subplots(figsize = (8,6))\n",
    "  \n",
    "  # create crosstab based on the input data\n",
    "  crosstab = pd.crosstab(index = data[x], columns = data[y], normalize = 'index')\n",
    "  crosstab = crosstab.reindex(['retain', 'churn'], axis = 1)\n",
    "\n",
    "  # visualize stacked barplot\n",
    "  if orient == 'vertical':\n",
    "    # order in descending (the highest value on the left)\n",
    "    crosstab = crosstab.sort_values('churn', ascending = False)\n",
    "    crosstab.plot(kind = 'bar', stacked = True, ax = ax)\n",
    "\n",
    "    # add percentage label\n",
    "    for i, index in enumerate(crosstab.index):\n",
    "        for (proportion, y_loc) in zip(crosstab.loc[index], crosstab.loc[index].cumsum()):\n",
    "          ax.text(x = i,\n",
    "                  y = (y_loc - proportion) + (proportion / 2),\n",
    "                  s = f'{proportion*100:.1f}%',\n",
    "                  color = 'white',\n",
    "                  fontsize = 14,\n",
    "                  fontweight = 'bold',\n",
    "                  horizontalalignment = 'center',\n",
    "                  verticalalignment = 'center')\n",
    "    # remove tick labels\n",
    "    ax.set_yticklabels([])\n",
    "  else: # default is horizontal bar plot, even if the orient input is an arbitrary value\n",
    "    # orient in ascending (the highest value on the top)\n",
    "    crosstab = crosstab.sort_values('churn', ascending = True)\n",
    "    crosstab.plot(kind = 'barh', stacked = True, ax = ax)\n",
    "\n",
    "    # add percentage label\n",
    "    for i, index in enumerate(crosstab.index):\n",
    "        for (proportion, x_loc) in zip(crosstab.loc[index], crosstab.loc[index].cumsum()):\n",
    "          ax.text(y = i,\n",
    "                  x = (x_loc - proportion) + (proportion / 2),\n",
    "                  s = f'{proportion*100:.1f}%',\n",
    "                  color = 'white',\n",
    "                  fontsize = 14,\n",
    "                  fontweight = 'bold',\n",
    "                  horizontalalignment = 'center',\n",
    "                  verticalalignment = 'center')\n",
    "    # remove tick labels\n",
    "    ax.set_xticklabels([])\n",
    "\n",
    "  x_titleize = inflection.titleize(x)\n",
    "  ax.set_title(f'Customer Churn Probability by {x_titleize}')      \n",
    "  ax.set_xlabel('')\n",
    "  ax.set_ylabel('')\n",
    "  ax.legend(loc = 'center left', bbox_to_anchor=(1, 0.5), title = '', frameon = False)\n",
    "  # ax.legend(loc='lower center', bbox_to_anchor=(0.5, 1), title='', ncol=2, frameon=False)\n",
    "  sns.despine(left = True, bottom = True)\n",
    "\n",
    "  if show:\n",
    "    plt.show()"
   ]
  },
  {
   "cell_type": "code",
   "execution_count": 6,
   "id": "9d573739",
   "metadata": {
    "hide_input": true
   },
   "outputs": [
    {
     "data": {
      "image/png": "[encoded data removed]",
      "text/plain": [
       "<Figure size 576x432 with 1 Axes>"
      ]
     },
     "metadata": {},
     "output_type": "display_data"
    }
   ],
   "source": [
    "pie_data = data_viz['churn'].value_counts(normalize = True).values * 100\n",
    "pie_label = data_viz['churn'].value_counts(normalize = True).index.to_list()\n",
    "\n",
    "fig, ax = plt.subplots(figsize = (8, 6))\n",
    "\n",
    "wedges, texts, autotexts = ax.pie(pie_data, labels = pie_label,\n",
    "                                 startangle = 90,\n",
    "                                 explode = [0, 0.1],\n",
    "                                 autopct = '%.0f%%',\n",
    "                                 textprops = {'color': 'w', 'fontsize':16, 'weight': 'bold'})\n",
    "\n",
    "for i, wedge in enumerate(wedges):\n",
    "    texts[i].set_color(wedge.get_facecolor())\n",
    "plt.tight_layout()\n",
    "plt.show()"
   ]
  },
  {
   "cell_type": "markdown",
   "id": "3936de88",
   "metadata": {},
   "source": [
    "#### Takeaways:\n",
    "- Churn represents roughly 27% of overall customers, since new customer acquisitions represents substantial costs, finding drivers of churn is crucial to improving the bottom line."
   ]
  },
  {
   "cell_type": "markdown",
   "id": "a0af09f3",
   "metadata": {
    "hide_input": false
   },
   "source": [
    "### Drivers of Churn"
   ]
  },
  {
   "cell_type": "code",
   "execution_count": 7,
   "id": "c94a828c",
   "metadata": {
    "hide_input": true
   },
   "outputs": [
    {
     "data": {
      "text/html": [
       "<style type=\"text/css\">\n",
       "#T_69344_row0_col1, #T_69344_row37_col2 {\n",
       "  background-color: #023858;\n",
       "  color: #f1f1f1;\n",
       "}\n",
       "#T_69344_row0_col2, #T_69344_row37_col1 {\n",
       "  background-color: #fff7fb;\n",
       "  color: #000000;\n",
       "}\n",
       "#T_69344_row1_col1 {\n",
       "  background-color: #03466e;\n",
       "  color: #f1f1f1;\n",
       "}\n",
       "#T_69344_row1_col2, #T_69344_row2_col2, #T_69344_row3_col2 {\n",
       "  background-color: #f7f0f7;\n",
       "  color: #000000;\n",
       "}\n",
       "#T_69344_row2_col1, #T_69344_row3_col1 {\n",
       "  background-color: #03476f;\n",
       "  color: #f1f1f1;\n",
       "}\n",
       "#T_69344_row4_col1 {\n",
       "  background-color: #0f76b3;\n",
       "  color: #f1f1f1;\n",
       "}\n",
       "#T_69344_row4_col2 {\n",
       "  background-color: #c8cde4;\n",
       "  color: #000000;\n",
       "}\n",
       "#T_69344_row5_col1, #T_69344_row33_col2 {\n",
       "  background-color: #167bb6;\n",
       "  color: #f1f1f1;\n",
       "}\n",
       "#T_69344_row5_col2, #T_69344_row33_col1 {\n",
       "  background-color: #c1cae2;\n",
       "  color: #000000;\n",
       "}\n",
       "#T_69344_row6_col1, #T_69344_row30_col2 {\n",
       "  background-color: #2081b9;\n",
       "  color: #f1f1f1;\n",
       "}\n",
       "#T_69344_row6_col2, #T_69344_row30_col1 {\n",
       "  background-color: #b9c6e0;\n",
       "  color: #000000;\n",
       "}\n",
       "#T_69344_row7_col1 {\n",
       "  background-color: #2383ba;\n",
       "  color: #f1f1f1;\n",
       "}\n",
       "#T_69344_row7_col2 {\n",
       "  background-color: #b7c5df;\n",
       "  color: #000000;\n",
       "}\n",
       "#T_69344_row8_col1 {\n",
       "  background-color: #2685bb;\n",
       "  color: #f1f1f1;\n",
       "}\n",
       "#T_69344_row8_col2 {\n",
       "  background-color: #b4c4df;\n",
       "  color: #000000;\n",
       "}\n",
       "#T_69344_row9_col1 {\n",
       "  background-color: #358fc0;\n",
       "  color: #f1f1f1;\n",
       "}\n",
       "#T_69344_row9_col2 {\n",
       "  background-color: #a7bddb;\n",
       "  color: #000000;\n",
       "}\n",
       "#T_69344_row10_col1 {\n",
       "  background-color: #3790c0;\n",
       "  color: #f1f1f1;\n",
       "}\n",
       "#T_69344_row10_col2 {\n",
       "  background-color: #a5bddb;\n",
       "  color: #000000;\n",
       "}\n",
       "#T_69344_row11_col1, #T_69344_row12_col1, #T_69344_row13_col1 {\n",
       "  background-color: #3d93c2;\n",
       "  color: #f1f1f1;\n",
       "}\n",
       "#T_69344_row11_col2, #T_69344_row12_col2, #T_69344_row13_col2 {\n",
       "  background-color: #a1bbda;\n",
       "  color: #000000;\n",
       "}\n",
       "#T_69344_row14_col1 {\n",
       "  background-color: #4094c3;\n",
       "  color: #f1f1f1;\n",
       "}\n",
       "#T_69344_row14_col2 {\n",
       "  background-color: #9ebad9;\n",
       "  color: #000000;\n",
       "}\n",
       "#T_69344_row15_col1 {\n",
       "  background-color: #549cc7;\n",
       "  color: #f1f1f1;\n",
       "}\n",
       "#T_69344_row15_col2 {\n",
       "  background-color: #8eb3d5;\n",
       "  color: #000000;\n",
       "}\n",
       "#T_69344_row16_col1, #T_69344_row17_col1 {\n",
       "  background-color: #569dc8;\n",
       "  color: #f1f1f1;\n",
       "}\n",
       "#T_69344_row16_col2, #T_69344_row17_col2 {\n",
       "  background-color: #8cb3d5;\n",
       "  color: #000000;\n",
       "}\n",
       "#T_69344_row18_col1 {\n",
       "  background-color: #67a4cc;\n",
       "  color: #f1f1f1;\n",
       "}\n",
       "#T_69344_row18_col2 {\n",
       "  background-color: #7eadd1;\n",
       "  color: #f1f1f1;\n",
       "}\n",
       "#T_69344_row19_col1, #T_69344_row22_col2 {\n",
       "  background-color: #6da6cd;\n",
       "  color: #f1f1f1;\n",
       "}\n",
       "#T_69344_row19_col2, #T_69344_row22_col1 {\n",
       "  background-color: #79abd0;\n",
       "  color: #f1f1f1;\n",
       "}\n",
       "#T_69344_row20_col1 {\n",
       "  background-color: #6fa7ce;\n",
       "  color: #f1f1f1;\n",
       "}\n",
       "#T_69344_row20_col2 {\n",
       "  background-color: #78abd0;\n",
       "  color: #f1f1f1;\n",
       "}\n",
       "#T_69344_row21_col1 {\n",
       "  background-color: #71a8ce;\n",
       "  color: #f1f1f1;\n",
       "}\n",
       "#T_69344_row21_col2 {\n",
       "  background-color: #76aad0;\n",
       "  color: #f1f1f1;\n",
       "}\n",
       "#T_69344_row23_col1 {\n",
       "  background-color: #80aed2;\n",
       "  color: #f1f1f1;\n",
       "}\n",
       "#T_69344_row23_col2 {\n",
       "  background-color: #65a3cb;\n",
       "  color: #f1f1f1;\n",
       "}\n",
       "#T_69344_row24_col1, #T_69344_row25_col1 {\n",
       "  background-color: #84b0d3;\n",
       "  color: #f1f1f1;\n",
       "}\n",
       "#T_69344_row24_col2, #T_69344_row25_col2 {\n",
       "  background-color: #60a1ca;\n",
       "  color: #f1f1f1;\n",
       "}\n",
       "#T_69344_row26_col1 {\n",
       "  background-color: #9ab8d8;\n",
       "  color: #000000;\n",
       "}\n",
       "#T_69344_row26_col2 {\n",
       "  background-color: #4496c3;\n",
       "  color: #f1f1f1;\n",
       "}\n",
       "#T_69344_row27_col1 {\n",
       "  background-color: #a2bcda;\n",
       "  color: #000000;\n",
       "}\n",
       "#T_69344_row27_col2 {\n",
       "  background-color: #3b92c1;\n",
       "  color: #f1f1f1;\n",
       "}\n",
       "#T_69344_row28_col1 {\n",
       "  background-color: #abbfdc;\n",
       "  color: #000000;\n",
       "}\n",
       "#T_69344_row28_col2 {\n",
       "  background-color: #308cbe;\n",
       "  color: #f1f1f1;\n",
       "}\n",
       "#T_69344_row29_col1 {\n",
       "  background-color: #b3c3de;\n",
       "  color: #000000;\n",
       "}\n",
       "#T_69344_row29_col2 {\n",
       "  background-color: #2786bb;\n",
       "  color: #f1f1f1;\n",
       "}\n",
       "#T_69344_row31_col1 {\n",
       "  background-color: #bcc7e1;\n",
       "  color: #000000;\n",
       "}\n",
       "#T_69344_row31_col2 {\n",
       "  background-color: #1c7fb8;\n",
       "  color: #f1f1f1;\n",
       "}\n",
       "#T_69344_row32_col1 {\n",
       "  background-color: #c0c9e2;\n",
       "  color: #000000;\n",
       "}\n",
       "#T_69344_row32_col2 {\n",
       "  background-color: #187cb6;\n",
       "  color: #f1f1f1;\n",
       "}\n",
       "#T_69344_row34_col1 {\n",
       "  background-color: #cccfe5;\n",
       "  color: #000000;\n",
       "}\n",
       "#T_69344_row34_col2 {\n",
       "  background-color: #0a73b2;\n",
       "  color: #f1f1f1;\n",
       "}\n",
       "#T_69344_row35_col1 {\n",
       "  background-color: #dfddec;\n",
       "  color: #000000;\n",
       "}\n",
       "#T_69344_row35_col2 {\n",
       "  background-color: #04649e;\n",
       "  color: #f1f1f1;\n",
       "}\n",
       "#T_69344_row36_col1 {\n",
       "  background-color: #f0eaf4;\n",
       "  color: #000000;\n",
       "}\n",
       "#T_69344_row36_col2 {\n",
       "  background-color: #045382;\n",
       "  color: #f1f1f1;\n",
       "}\n",
       "</style>\n",
       "<table id=\"T_69344_\">\n",
       "  <thead>\n",
       "    <tr>\n",
       "      <th class=\"blank level0\" >&nbsp;</th>\n",
       "      <th class=\"col_heading level0 col0\" >attribute</th>\n",
       "      <th class=\"col_heading level0 col1\" >churn</th>\n",
       "      <th class=\"col_heading level0 col2\" >retain</th>\n",
       "    </tr>\n",
       "  </thead>\n",
       "  <tbody>\n",
       "    <tr>\n",
       "      <th id=\"T_69344_level0_row0\" class=\"row_heading level0 row0\" >0</th>\n",
       "      <td id=\"T_69344_row0_col0\" class=\"data row0 col0\" >Payment Type (Electronic check)</td>\n",
       "      <td id=\"T_69344_row0_col1\" class=\"data row0 col1\" >0.450737</td>\n",
       "      <td id=\"T_69344_row0_col2\" class=\"data row0 col2\" >0.549263</td>\n",
       "    </tr>\n",
       "    <tr>\n",
       "      <th id=\"T_69344_level0_row1\" class=\"row_heading level0 row1\" >1</th>\n",
       "      <td id=\"T_69344_row1_col0\" class=\"data row1 col0\" >Contract Type (Month-to-month)</td>\n",
       "      <td id=\"T_69344_row1_col1\" class=\"data row1 col1\" >0.428176</td>\n",
       "      <td id=\"T_69344_row1_col2\" class=\"data row1 col2\" >0.571824</td>\n",
       "    </tr>\n",
       "    <tr>\n",
       "      <th id=\"T_69344_level0_row2\" class=\"row_heading level0 row2\" >2</th>\n",
       "      <td id=\"T_69344_row2_col0\" class=\"data row2 col0\" >Internet Service Type (Fiber optic)</td>\n",
       "      <td id=\"T_69344_row2_col1\" class=\"data row2 col1\" >0.426829</td>\n",
       "      <td id=\"T_69344_row2_col2\" class=\"data row2 col2\" >0.573171</td>\n",
       "    </tr>\n",
       "    <tr>\n",
       "      <th id=\"T_69344_level0_row3\" class=\"row_heading level0 row3\" >3</th>\n",
       "      <td id=\"T_69344_row3_col0\" class=\"data row3 col0\" >Senior Citizen (Yes)</td>\n",
       "      <td id=\"T_69344_row3_col1\" class=\"data row3 col1\" >0.426772</td>\n",
       "      <td id=\"T_69344_row3_col2\" class=\"data row3 col2\" >0.573228</td>\n",
       "    </tr>\n",
       "    <tr>\n",
       "      <th id=\"T_69344_level0_row4\" class=\"row_heading level0 row4\" >4</th>\n",
       "      <td id=\"T_69344_row4_col0\" class=\"data row4 col0\" >Paperless Billing (Yes)</td>\n",
       "      <td id=\"T_69344_row4_col1\" class=\"data row4 col1\" >0.335628</td>\n",
       "      <td id=\"T_69344_row4_col2\" class=\"data row4 col2\" >0.664372</td>\n",
       "    </tr>\n",
       "    <tr>\n",
       "      <th id=\"T_69344_level0_row5\" class=\"row_heading level0 row5\" >5</th>\n",
       "      <td id=\"T_69344_row5_col0\" class=\"data row5 col0\" >Partner (No)</td>\n",
       "      <td id=\"T_69344_row5_col1\" class=\"data row5 col1\" >0.327084</td>\n",
       "      <td id=\"T_69344_row5_col2\" class=\"data row5 col2\" >0.672916</td>\n",
       "    </tr>\n",
       "    <tr>\n",
       "      <th id=\"T_69344_level0_row6\" class=\"row_heading level0 row6\" >6</th>\n",
       "      <td id=\"T_69344_row6_col0\" class=\"data row6 col0\" >Online Security (No)</td>\n",
       "      <td id=\"T_69344_row6_col1\" class=\"data row6 col1\" >0.317056</td>\n",
       "      <td id=\"T_69344_row6_col2\" class=\"data row6 col2\" >0.682944</td>\n",
       "    </tr>\n",
       "    <tr>\n",
       "      <th id=\"T_69344_level0_row7\" class=\"row_heading level0 row7\" >7</th>\n",
       "      <td id=\"T_69344_row7_col0\" class=\"data row7 col0\" >Dependents (No)</td>\n",
       "      <td id=\"T_69344_row7_col1\" class=\"data row7 col1\" >0.313297</td>\n",
       "      <td id=\"T_69344_row7_col2\" class=\"data row7 col2\" >0.686703</td>\n",
       "    </tr>\n",
       "    <tr>\n",
       "      <th id=\"T_69344_level0_row8\" class=\"row_heading level0 row8\" >8</th>\n",
       "      <td id=\"T_69344_row8_col0\" class=\"data row8 col0\" >Tech Support (No)</td>\n",
       "      <td id=\"T_69344_row8_col1\" class=\"data row8 col1\" >0.310579</td>\n",
       "      <td id=\"T_69344_row8_col2\" class=\"data row8 col2\" >0.689421</td>\n",
       "    </tr>\n",
       "    <tr>\n",
       "      <th id=\"T_69344_level0_row9\" class=\"row_heading level0 row9\" >9</th>\n",
       "      <td id=\"T_69344_row9_col0\" class=\"data row9 col0\" >Streaming Movies (Yes)</td>\n",
       "      <td id=\"T_69344_row9_col1\" class=\"data row9 col1\" >0.293965</td>\n",
       "      <td id=\"T_69344_row9_col2\" class=\"data row9 col2\" >0.706035</td>\n",
       "    </tr>\n",
       "    <tr>\n",
       "      <th id=\"T_69344_level0_row10\" class=\"row_heading level0 row10\" >10</th>\n",
       "      <td id=\"T_69344_row10_col0\" class=\"data row10 col0\" >Multiple Lines (Yes)</td>\n",
       "      <td id=\"T_69344_row10_col1\" class=\"data row10 col1\" >0.292990</td>\n",
       "      <td id=\"T_69344_row10_col2\" class=\"data row10 col2\" >0.707010</td>\n",
       "    </tr>\n",
       "    <tr>\n",
       "      <th id=\"T_69344_level0_row11\" class=\"row_heading level0 row11\" >11</th>\n",
       "      <td id=\"T_69344_row11_col0\" class=\"data row11 col0\" >Online Backup (No)</td>\n",
       "      <td id=\"T_69344_row11_col1\" class=\"data row11 col1\" >0.287832</td>\n",
       "      <td id=\"T_69344_row11_col2\" class=\"data row11 col2\" >0.712168</td>\n",
       "    </tr>\n",
       "    <tr>\n",
       "      <th id=\"T_69344_level0_row12\" class=\"row_heading level0 row12\" >12</th>\n",
       "      <td id=\"T_69344_row12_col0\" class=\"data row12 col0\" >Online Backup Yes (0)</td>\n",
       "      <td id=\"T_69344_row12_col1\" class=\"data row12 col1\" >0.287832</td>\n",
       "      <td id=\"T_69344_row12_col2\" class=\"data row12 col2\" >0.712168</td>\n",
       "    </tr>\n",
       "    <tr>\n",
       "      <th id=\"T_69344_level0_row13\" class=\"row_heading level0 row13\" >13</th>\n",
       "      <td id=\"T_69344_row13_col0\" class=\"data row13 col0\" >Streaming Tv (Yes)</td>\n",
       "      <td id=\"T_69344_row13_col1\" class=\"data row13 col1\" >0.287311</td>\n",
       "      <td id=\"T_69344_row13_col2\" class=\"data row13 col2\" >0.712689</td>\n",
       "    </tr>\n",
       "    <tr>\n",
       "      <th id=\"T_69344_level0_row14\" class=\"row_heading level0 row14\" >14</th>\n",
       "      <td id=\"T_69344_row14_col0\" class=\"data row14 col0\" >Device Protection (No)</td>\n",
       "      <td id=\"T_69344_row14_col1\" class=\"data row14 col1\" >0.285156</td>\n",
       "      <td id=\"T_69344_row14_col2\" class=\"data row14 col2\" >0.714844</td>\n",
       "    </tr>\n",
       "    <tr>\n",
       "      <th id=\"T_69344_level0_row15\" class=\"row_heading level0 row15\" >15</th>\n",
       "      <td id=\"T_69344_row15_col0\" class=\"data row15 col0\" >Phone Service (Yes)</td>\n",
       "      <td id=\"T_69344_row15_col1\" class=\"data row15 col1\" >0.267957</td>\n",
       "      <td id=\"T_69344_row15_col2\" class=\"data row15 col2\" >0.732043</td>\n",
       "    </tr>\n",
       "    <tr>\n",
       "      <th id=\"T_69344_level0_row16\" class=\"row_heading level0 row16\" >16</th>\n",
       "      <td id=\"T_69344_row16_col0\" class=\"data row16 col0\" >Gender (Male)</td>\n",
       "      <td id=\"T_69344_row16_col1\" class=\"data row16 col1\" >0.265688</td>\n",
       "      <td id=\"T_69344_row16_col2\" class=\"data row16 col2\" >0.734312</td>\n",
       "    </tr>\n",
       "    <tr>\n",
       "      <th id=\"T_69344_level0_row17\" class=\"row_heading level0 row17\" >17</th>\n",
       "      <td id=\"T_69344_row17_col0\" class=\"data row17 col0\" >Gender (Female)</td>\n",
       "      <td id=\"T_69344_row17_col1\" class=\"data row17 col1\" >0.265681</td>\n",
       "      <td id=\"T_69344_row17_col2\" class=\"data row17 col2\" >0.734319</td>\n",
       "    </tr>\n",
       "    <tr>\n",
       "      <th id=\"T_69344_level0_row18\" class=\"row_heading level0 row18\" >18</th>\n",
       "      <td id=\"T_69344_row18_col0\" class=\"data row18 col0\" >Streaming Tv (No)</td>\n",
       "      <td id=\"T_69344_row18_col1\" class=\"data row18 col1\" >0.252070</td>\n",
       "      <td id=\"T_69344_row18_col2\" class=\"data row18 col2\" >0.747930</td>\n",
       "    </tr>\n",
       "    <tr>\n",
       "      <th id=\"T_69344_level0_row19\" class=\"row_heading level0 row19\" >19</th>\n",
       "      <td id=\"T_69344_row19_col0\" class=\"data row19 col0\" >Streaming Movies (No)</td>\n",
       "      <td id=\"T_69344_row19_col1\" class=\"data row19 col1\" >0.247496</td>\n",
       "      <td id=\"T_69344_row19_col2\" class=\"data row19 col2\" >0.752504</td>\n",
       "    </tr>\n",
       "    <tr>\n",
       "      <th id=\"T_69344_level0_row20\" class=\"row_heading level0 row20\" >20</th>\n",
       "      <td id=\"T_69344_row20_col0\" class=\"data row20 col0\" >Multiple Lines (No)</td>\n",
       "      <td id=\"T_69344_row20_col1\" class=\"data row20 col1\" >0.245591</td>\n",
       "      <td id=\"T_69344_row20_col2\" class=\"data row20 col2\" >0.754409</td>\n",
       "    </tr>\n",
       "    <tr>\n",
       "      <th id=\"T_69344_level0_row21\" class=\"row_heading level0 row21\" >21</th>\n",
       "      <td id=\"T_69344_row21_col0\" class=\"data row21 col0\" >Phone Service (No)</td>\n",
       "      <td id=\"T_69344_row21_col1\" class=\"data row21 col1\" >0.243968</td>\n",
       "      <td id=\"T_69344_row21_col2\" class=\"data row21 col2\" >0.756032</td>\n",
       "    </tr>\n",
       "    <tr>\n",
       "      <th id=\"T_69344_level0_row22\" class=\"row_heading level0 row22\" >22</th>\n",
       "      <td id=\"T_69344_row22_col0\" class=\"data row22 col0\" >Senior Citizen (No)</td>\n",
       "      <td id=\"T_69344_row22_col1\" class=\"data row22 col1\" >0.234706</td>\n",
       "      <td id=\"T_69344_row22_col2\" class=\"data row22 col2\" >0.765294</td>\n",
       "    </tr>\n",
       "    <tr>\n",
       "      <th id=\"T_69344_level0_row23\" class=\"row_heading level0 row23\" >23</th>\n",
       "      <td id=\"T_69344_row23_col0\" class=\"data row23 col0\" >Device Protection (Yes)</td>\n",
       "      <td id=\"T_69344_row23_col1\" class=\"data row23 col1\" >0.229484</td>\n",
       "      <td id=\"T_69344_row23_col2\" class=\"data row23 col2\" >0.770516</td>\n",
       "    </tr>\n",
       "    <tr>\n",
       "      <th id=\"T_69344_level0_row24\" class=\"row_heading level0 row24\" >24</th>\n",
       "      <td id=\"T_69344_row24_col0\" class=\"data row24 col0\" >Online Backup Yes (1)</td>\n",
       "      <td id=\"T_69344_row24_col1\" class=\"data row24 col1\" >0.224326</td>\n",
       "      <td id=\"T_69344_row24_col2\" class=\"data row24 col2\" >0.775674</td>\n",
       "    </tr>\n",
       "    <tr>\n",
       "      <th id=\"T_69344_level0_row25\" class=\"row_heading level0 row25\" >25</th>\n",
       "      <td id=\"T_69344_row25_col0\" class=\"data row25 col0\" >Online Backup (Yes)</td>\n",
       "      <td id=\"T_69344_row25_col1\" class=\"data row25 col1\" >0.224326</td>\n",
       "      <td id=\"T_69344_row25_col2\" class=\"data row25 col2\" >0.775674</td>\n",
       "    </tr>\n",
       "    <tr>\n",
       "      <th id=\"T_69344_level0_row26\" class=\"row_heading level0 row26\" >26</th>\n",
       "      <td id=\"T_69344_row26_col0\" class=\"data row26 col0\" >Partner (Yes)</td>\n",
       "      <td id=\"T_69344_row26_col1\" class=\"data row26 col1\" >0.200524</td>\n",
       "      <td id=\"T_69344_row26_col2\" class=\"data row26 col2\" >0.799476</td>\n",
       "    </tr>\n",
       "    <tr>\n",
       "      <th id=\"T_69344_level0_row27\" class=\"row_heading level0 row27\" >27</th>\n",
       "      <td id=\"T_69344_row27_col0\" class=\"data row27 col0\" >Payment Type (Mailed check)</td>\n",
       "      <td id=\"T_69344_row27_col1\" class=\"data row27 col1\" >0.191919</td>\n",
       "      <td id=\"T_69344_row27_col2\" class=\"data row27 col2\" >0.808081</td>\n",
       "    </tr>\n",
       "    <tr>\n",
       "      <th id=\"T_69344_level0_row28\" class=\"row_heading level0 row28\" >28</th>\n",
       "      <td id=\"T_69344_row28_col0\" class=\"data row28 col0\" >Internet Service Type (DSL)</td>\n",
       "      <td id=\"T_69344_row28_col1\" class=\"data row28 col1\" >0.183234</td>\n",
       "      <td id=\"T_69344_row28_col2\" class=\"data row28 col2\" >0.816766</td>\n",
       "    </tr>\n",
       "    <tr>\n",
       "      <th id=\"T_69344_level0_row29\" class=\"row_heading level0 row29\" >29</th>\n",
       "      <td id=\"T_69344_row29_col0\" class=\"data row29 col0\" >Payment Type (Bank transfer)</td>\n",
       "      <td id=\"T_69344_row29_col1\" class=\"data row29 col1\" >0.172854</td>\n",
       "      <td id=\"T_69344_row29_col2\" class=\"data row29 col2\" >0.827146</td>\n",
       "    </tr>\n",
       "    <tr>\n",
       "      <th id=\"T_69344_level0_row30\" class=\"row_heading level0 row30\" >30</th>\n",
       "      <td id=\"T_69344_row30_col0\" class=\"data row30 col0\" >Paperless Billing (No)</td>\n",
       "      <td id=\"T_69344_row30_col1\" class=\"data row30 col1\" >0.164910</td>\n",
       "      <td id=\"T_69344_row30_col2\" class=\"data row30 col2\" >0.835090</td>\n",
       "    </tr>\n",
       "    <tr>\n",
       "      <th id=\"T_69344_level0_row31\" class=\"row_heading level0 row31\" >31</th>\n",
       "      <td id=\"T_69344_row31_col0\" class=\"data row31 col0\" >Payment Type (Credit card)</td>\n",
       "      <td id=\"T_69344_row31_col1\" class=\"data row31 col1\" >0.162011</td>\n",
       "      <td id=\"T_69344_row31_col2\" class=\"data row31 col2\" >0.837989</td>\n",
       "    </tr>\n",
       "    <tr>\n",
       "      <th id=\"T_69344_level0_row32\" class=\"row_heading level0 row32\" >32</th>\n",
       "      <td id=\"T_69344_row32_col0\" class=\"data row32 col0\" >Dependents (Yes)</td>\n",
       "      <td id=\"T_69344_row32_col1\" class=\"data row32 col1\" >0.156040</td>\n",
       "      <td id=\"T_69344_row32_col2\" class=\"data row32 col2\" >0.843960</td>\n",
       "    </tr>\n",
       "    <tr>\n",
       "      <th id=\"T_69344_level0_row33\" class=\"row_heading level0 row33\" >33</th>\n",
       "      <td id=\"T_69344_row33_col0\" class=\"data row33 col0\" >Tech Support (Yes)</td>\n",
       "      <td id=\"T_69344_row33_col1\" class=\"data row33 col1\" >0.155399</td>\n",
       "      <td id=\"T_69344_row33_col2\" class=\"data row33 col2\" >0.844601</td>\n",
       "    </tr>\n",
       "    <tr>\n",
       "      <th id=\"T_69344_level0_row34\" class=\"row_heading level0 row34\" >34</th>\n",
       "      <td id=\"T_69344_row34_col0\" class=\"data row34 col0\" >Online Security (Yes)</td>\n",
       "      <td id=\"T_69344_row34_col1\" class=\"data row34 col1\" >0.141493</td>\n",
       "      <td id=\"T_69344_row34_col2\" class=\"data row34 col2\" >0.858507</td>\n",
       "    </tr>\n",
       "    <tr>\n",
       "      <th id=\"T_69344_level0_row35\" class=\"row_heading level0 row35\" >35</th>\n",
       "      <td id=\"T_69344_row35_col0\" class=\"data row35 col0\" >Contract Type (One year)</td>\n",
       "      <td id=\"T_69344_row35_col1\" class=\"data row35 col1\" >0.109202</td>\n",
       "      <td id=\"T_69344_row35_col2\" class=\"data row35 col2\" >0.890798</td>\n",
       "    </tr>\n",
       "    <tr>\n",
       "      <th id=\"T_69344_level0_row36\" class=\"row_heading level0 row36\" >36</th>\n",
       "      <td id=\"T_69344_row36_col0\" class=\"data row36 col0\" >Internet Service Type (None)</td>\n",
       "      <td id=\"T_69344_row36_col1\" class=\"data row36 col1\" >0.073818</td>\n",
       "      <td id=\"T_69344_row36_col2\" class=\"data row36 col2\" >0.926182</td>\n",
       "    </tr>\n",
       "    <tr>\n",
       "      <th id=\"T_69344_level0_row37\" class=\"row_heading level0 row37\" >37</th>\n",
       "      <td id=\"T_69344_row37_col0\" class=\"data row37 col0\" >Contract Type (Two year)</td>\n",
       "      <td id=\"T_69344_row37_col1\" class=\"data row37 col1\" >0.031348</td>\n",
       "      <td id=\"T_69344_row37_col2\" class=\"data row37 col2\" >0.968652</td>\n",
       "    </tr>\n",
       "  </tbody>\n",
       "</table>\n"
      ],
      "text/plain": [
       "<pandas.io.formats.style.Styler at 0x7fdcf5594a90>"
      ]
     },
     "execution_count": 7,
     "metadata": {},
     "output_type": "execute_result"
    }
   ],
   "source": [
    "cat_col = list(train.columns)\n",
    "cat_col.remove('tenure')\n",
    "cat_col.remove('monthly_charges')\n",
    "cat_col.remove('total_charges')\n",
    "\n",
    "#remove redundancies\n",
    "cat_col.remove('gender_encoded')\n",
    "cat_col.remove('partner_encoded')\n",
    "cat_col.remove('dependents_encoded')\n",
    "cat_col.remove('phone_service_encoded')\n",
    "cat_col.remove('paperless_billing_encoded')\n",
    "cat_col.remove('senior_citizen_encoded')\n",
    "cat_col.remove('multiple_lines_yes')\n",
    "cat_col.remove('online_security_yes')\n",
    "cat_col.remove('device_protection_yes')\n",
    "cat_col.remove('tech_support_yes')\n",
    "cat_col.remove('streaming_tv_yes')\n",
    "cat_col.remove('streaming_movies_yes')\n",
    "cat_col.remove('contract_type_one_year')\n",
    "cat_col.remove('contract_type_two_year')\n",
    "cat_col.remove('internet_service_type_fiber_optic')\n",
    "cat_col.remove('internet_service_type_none')\n",
    "cat_col.remove('payment_type_credit_card')\n",
    "cat_col.remove('payment_type_electronic_check')\n",
    "cat_col.remove('payment_type_mailed_check')\n",
    "\n",
    "#remove target variables\n",
    "cat_col.remove('churn')\n",
    "cat_col.remove('churn_encoded')\n",
    "\n",
    "columns = data_viz['churn']\n",
    "\n",
    "attr_crosstab = pd.DataFrame()\n",
    "\n",
    "for col in cat_col: #putting cols instead of col removes churn (desired result)\n",
    "    #create crosstab for each attribute\n",
    "    index = data_viz[col]\n",
    "    ct = pd.crosstab(index = index, columns = columns, normalize = 'index', colnames = [None]).reset_index()\n",
    "    \n",
    "    #add prefix to each category\n",
    "    #format : column name (category)\n",
    "    \n",
    "    col_titleize = inflection.titleize(col)\n",
    "    ct[col] = ct[col].apply(lambda x: f'{col_titleize} ({x})')\n",
    "    \n",
    "    #rename the column\n",
    "    \n",
    "    ct.rename(columns = {col: 'attribute'}, inplace = True)\n",
    "    \n",
    "    #create a single dataframe\n",
    "    attr_crosstab = pd.concat([attr_crosstab, ct])\n",
    "    \n",
    "attr_crosstab = attr_crosstab.sort_values('churn', ascending = False).reset_index(drop = True)\n",
    "attr_crosstab.style.background_gradient()"
   ]
  },
  {
   "cell_type": "code",
   "execution_count": null,
   "id": "bda4829a",
   "metadata": {
    "hide_input": true
   },
   "outputs": [],
   "source": []
  },
  {
   "cell_type": "markdown",
   "id": "97409bb3",
   "metadata": {},
   "source": [
    "#### Takeaways:\n",
    "- Excluding the month-to-month contract type, the top five predictions of churn are:\n",
    "   - Payment Type (Electronic Check)\n",
    "   - Internet Service Type (Fiber Optic)\n",
    "   - Senior Citizen (Yes)\n",
    "   - Paperless Billing (Yes)\n",
    "   - Partner (No)"
   ]
  },
  {
   "cell_type": "markdown",
   "id": "019ae7b5",
   "metadata": {},
   "source": [
    "---"
   ]
  },
  {
   "cell_type": "code",
   "execution_count": 8,
   "id": "45636b9b",
   "metadata": {
    "hide_input": true
   },
   "outputs": [
    {
     "data": {
      "image/png": "[encoded data removed]",
      "text/plain": [
       "<Figure size 1440x576 with 4 Axes>"
      ]
     },
     "metadata": {
      "needs_background": "light"
     },
     "output_type": "display_data"
    }
   ],
   "source": [
    "features = ['contract_type', 'internet_service_type', 'paperless_billing', 'payment_type']\n",
    "\n",
    "_, ax = plt.subplots(nrows = 1, ncols = 4, figsize = (20, 8), sharey = True)\n",
    "for i, feature in enumerate (features):\n",
    "    sns.barplot(feature, 'churn_encoded', data = train, ax = ax[i], hue = 'senior_citizen')\n",
    "    ax[i].set_xlabel('')\n",
    "    ax[i].set_ylabel('Churn')\n",
    "    ax[i].set_title(feature)\n",
    "    ax[i].axhline(train.churn_encoded.mean(), ls = '--', color = 'red')\n",
    "\n",
    "sns.despine(left = True, bottom = True)\n",
    "plt.tight_layout()    \n",
    "plt.show()"
   ]
  },
  {
   "cell_type": "code",
   "execution_count": 9,
   "id": "658df465",
   "metadata": {
    "hide_input": true
   },
   "outputs": [
    {
     "name": "stdout",
     "output_type": "stream",
     "text": [
      "Reject the null hypothesis which states, seniority and contract types are independent.\n",
      "Evidence suggests that there is a relationship between seniority and contract types.\n"
     ]
    }
   ],
   "source": [
    "null = \"seniority and contract types are independent.\"\n",
    "alt = \"there is a relationship between seniority and contract types.\"\n",
    "α = 0.5\n",
    "\n",
    "#setup crosstab\n",
    "observed = pd.crosstab(train.senior_citizen, train.contract_type)\n",
    "\n",
    "chi2, p, degf, expected = stats.chi2_contingency(observed)\n",
    "round(p ,3)\n",
    "\n",
    "if p < α:\n",
    "    print('Reject the null hypothesis which states,', null)\n",
    "    print('Evidence suggests that', alt)\n",
    "else:\n",
    "    print('Fail to reject the null:', null)\n",
    "    print('There is insufficient evidence to support the claim that,', alt)"
   ]
  },
  {
   "cell_type": "code",
   "execution_count": 10,
   "id": "1eade5f0",
   "metadata": {
    "hide_input": true
   },
   "outputs": [
    {
     "name": "stdout",
     "output_type": "stream",
     "text": [
      "Reject the null hypothesis which states, seniority and internet service types are independent.\n",
      "Evidence suggests that there is a relationship between seniority and internet service types.\n"
     ]
    }
   ],
   "source": [
    "null = \"seniority and internet service types are independent.\"\n",
    "alt = \"there is a relationship between seniority and internet service types.\"\n",
    "α = 0.5\n",
    "\n",
    "#setup crosstab\n",
    "observed = pd.crosstab(train.senior_citizen, train.internet_service_type)\n",
    "\n",
    "chi2, p, degf, expected = stats.chi2_contingency(observed)\n",
    "round(p ,3)\n",
    "\n",
    "if p < α:\n",
    "    print('Reject the null hypothesis which states,', null)\n",
    "    print('Evidence suggests that', alt)\n",
    "else:\n",
    "    print('Fail to reject the null:', null)\n",
    "    print('There is insufficient evidence to support the claim that,', alt)"
   ]
  },
  {
   "cell_type": "code",
   "execution_count": 11,
   "id": "1b6d4f23",
   "metadata": {
    "hide_input": true
   },
   "outputs": [
    {
     "name": "stdout",
     "output_type": "stream",
     "text": [
      "Reject the null hypothesis which states, seniority and paperless billing are independent.\n",
      "Evidence suggests that there is a relationship between seniority and paperless billing.\n"
     ]
    }
   ],
   "source": [
    "null = \"seniority and paperless billing are independent.\"\n",
    "alt = \"there is a relationship between seniority and paperless billing.\"\n",
    "α = 0.5\n",
    "\n",
    "#setup crosstab\n",
    "observed = pd.crosstab(train.senior_citizen, train.paperless_billing)\n",
    "\n",
    "chi2, p, degf, expected = stats.chi2_contingency(observed)\n",
    "round(p ,3)\n",
    "\n",
    "if p < α:\n",
    "    print('Reject the null hypothesis which states,', null)\n",
    "    print('Evidence suggests that', alt)\n",
    "else:\n",
    "    print('Fail to reject the null:', null)\n",
    "    print('There is insufficient evidence to support the claim that,', alt)"
   ]
  },
  {
   "cell_type": "code",
   "execution_count": 12,
   "id": "78e705e3",
   "metadata": {
    "hide_input": true
   },
   "outputs": [
    {
     "name": "stdout",
     "output_type": "stream",
     "text": [
      "Reject the null hypothesis which states, seniority and payment type are independent.\n",
      "Evidence suggests that there is a relationship between seniority and payment type.\n"
     ]
    }
   ],
   "source": [
    "null = \"seniority and payment type are independent.\"\n",
    "alt = \"there is a relationship between seniority and payment type.\"\n",
    "α = 0.5\n",
    "\n",
    "#setup crosstab\n",
    "observed = pd.crosstab(train.senior_citizen, train.payment_type)\n",
    "\n",
    "chi2, p, degf, expected = stats.chi2_contingency(observed)\n",
    "round(p ,3)\n",
    "\n",
    "if p < α:\n",
    "    print('Reject the null hypothesis which states,', null)\n",
    "    print('Evidence suggests that', alt)\n",
    "else:\n",
    "    print('Fail to reject the null:', null)\n",
    "    print('There is insufficient evidence to support the claim that,', alt)"
   ]
  },
  {
   "cell_type": "code",
   "execution_count": 13,
   "id": "453c232c",
   "metadata": {
    "hide_input": true,
    "scrolled": false
   },
   "outputs": [
    {
     "data": {
      "image/png": "[encoded data removed]",
      "text/plain": [
       "<Figure size 1440x576 with 4 Axes>"
      ]
     },
     "metadata": {
      "needs_background": "light"
     },
     "output_type": "display_data"
    }
   ],
   "source": [
    "features = ['contract_type', 'internet_service_type', 'paperless_billing', 'payment_type']\n",
    "\n",
    "_, ax = plt.subplots(nrows = 1, ncols = 4, figsize = (20, 8), sharey = True)\n",
    "for i, feature in enumerate (features):\n",
    "    sns.barplot(feature, 'churn_encoded', data = train, ax = ax[i], hue = 'partner')\n",
    "    ax[i].set_xlabel('')\n",
    "    ax[i].set_ylabel('Churn')\n",
    "    ax[i].set_title(feature)\n",
    "    ax[i].axhline(train.churn_encoded.mean(), ls = '--', color = 'red')\n",
    "\n",
    "sns.despine(left = True, bottom = True)\n",
    "plt.tight_layout()\n",
    "plt.show()\n",
    "    "
   ]
  },
  {
   "cell_type": "code",
   "execution_count": 14,
   "id": "f2aaa501",
   "metadata": {
    "hide_input": true
   },
   "outputs": [
    {
     "name": "stdout",
     "output_type": "stream",
     "text": [
      "Reject the null hypothesis which states, being partnered and contract types are independent.\n",
      "Evidence suggests that there is a relationship between being partnered and contract types.\n"
     ]
    }
   ],
   "source": [
    "null = \"being partnered and contract types are independent.\"\n",
    "alt = \"there is a relationship between being partnered and contract types.\"\n",
    "α = 0.5\n",
    "\n",
    "#setup crosstab\n",
    "observed = pd.crosstab(train.partner, train.contract_type)\n",
    "\n",
    "chi2, p, degf, expected = stats.chi2_contingency(observed)\n",
    "round(p ,3)\n",
    "\n",
    "if p < α:\n",
    "    print('Reject the null hypothesis which states,', null)\n",
    "    print('Evidence suggests that', alt)\n",
    "else:\n",
    "    print('Fail to reject the null:', null)\n",
    "    print('There is insufficient evidence to support the claim that,', alt)"
   ]
  },
  {
   "cell_type": "code",
   "execution_count": 112,
   "id": "91233ca5",
   "metadata": {
    "hide_input": false
   },
   "outputs": [
    {
     "name": "stdout",
     "output_type": "stream",
     "text": [
      "Fail to reject the null which states being partnered and internet service types are independent.\n",
      "There is insufficient evidence to support the claim that there is a relationship between partnership and internet service types.\n"
     ]
    }
   ],
   "source": [
    "null = \"being partnered and internet service types are independent.\"\n",
    "alt = \"there is a relationship between partnership and internet service types.\"\n",
    "α = 0.5\n",
    "\n",
    "#setup crosstab\n",
    "observed = pd.crosstab(train.partner, train.internet_service_type)\n",
    "\n",
    "chi2, p, degf, expected = stats.chi2_contingency(observed)\n",
    "round(p ,3)\n",
    "\n",
    "if p < α:\n",
    "    print('Reject the null hypothesis which states,', null)\n",
    "    print('Evidence suggests that', alt)\n",
    "else:\n",
    "    print('Fail to reject the null which states', null)\n",
    "    print('There is insufficient evidence to support the claim that', alt)"
   ]
  },
  {
   "cell_type": "code",
   "execution_count": 16,
   "id": "0072fa76",
   "metadata": {
    "hide_input": true
   },
   "outputs": [
    {
     "name": "stdout",
     "output_type": "stream",
     "text": [
      "Reject the null hypothesis which states, being partnered and fiber optic internet service are independent.\n",
      "Evidence suggests that there is a relationship between being partnered and fiber optic internet service type.\n"
     ]
    }
   ],
   "source": [
    "null = \"being partnered and fiber optic internet service are independent.\"\n",
    "alt = \"there is a relationship between being partnered and fiber optic internet service type.\"\n",
    "α = 0.5\n",
    "\n",
    "#setup crosstab\n",
    "observed = pd.crosstab(train.partner, train.internet_service_type_fiber_optic)\n",
    "\n",
    "chi2, p, degf, expected = stats.chi2_contingency(observed)\n",
    "round(p ,3)\n",
    "\n",
    "if p < α:\n",
    "    print('Reject the null hypothesis which states,', null)\n",
    "    print('Evidence suggests that', alt)\n",
    "else:\n",
    "    print('Fail to reject the null:', null)\n",
    "    print('There is insufficient evidence to support the claim that,', alt)"
   ]
  },
  {
   "cell_type": "code",
   "execution_count": 17,
   "id": "46085f95",
   "metadata": {
    "hide_input": true
   },
   "outputs": [
    {
     "name": "stdout",
     "output_type": "stream",
     "text": [
      "Fail to reject the null which states, being partnered and paperless billing are independent.\n",
      "There is insufficient evidence to support the claim that, there is a relationship between being partnered and paperless billing.\n"
     ]
    }
   ],
   "source": [
    "null = \"being partnered and paperless billing are independent.\"\n",
    "alt = \"there is a relationship between being partnered and paperless billing.\"\n",
    "α = 0.5\n",
    "\n",
    "#setup crosstab\n",
    "observed = pd.crosstab(train.partner, train.paperless_billing)\n",
    "\n",
    "chi2, p, degf, expected = stats.chi2_contingency(observed)\n",
    "round(p ,3)\n",
    "\n",
    "if p < α:\n",
    "    print('Reject the null hypothesis which states,', null)\n",
    "    print('Evidence suggests that', alt)\n",
    "else:\n",
    "    print('Fail to reject the null which states,',null)\n",
    "    print('There is insufficient evidence to support the claim that,', alt)"
   ]
  },
  {
   "cell_type": "code",
   "execution_count": 18,
   "id": "584d8edc",
   "metadata": {
    "hide_input": true
   },
   "outputs": [
    {
     "name": "stdout",
     "output_type": "stream",
     "text": [
      "Reject the null hypothesis which states, being partnered and payment type are independent.\n",
      "Evidence suggests that there is a relationship between being partnered and payment type.\n"
     ]
    }
   ],
   "source": [
    "null = \"being partnered and payment type are independent.\"\n",
    "alt = \"there is a relationship between being partnered and payment type.\"\n",
    "α = 0.5\n",
    "\n",
    "#setup crosstab\n",
    "observed = pd.crosstab(train.partner, train.payment_type)\n",
    "\n",
    "chi2, p, degf, expected = stats.chi2_contingency(observed)\n",
    "round(p ,3)\n",
    "\n",
    "if p < α:\n",
    "    print('Reject the null hypothesis which states,', null)\n",
    "    print('Evidence suggests that', alt)\n",
    "else:\n",
    "    print('Fail to reject the null:', null)\n",
    "    print('There is insufficient evidence to support the claim that,', alt)"
   ]
  },
  {
   "cell_type": "code",
   "execution_count": 19,
   "id": "a37c3827",
   "metadata": {
    "hide_input": true,
    "scrolled": true
   },
   "outputs": [
    {
     "data": {
      "text/html": [
       "<div>\n",
       "<style scoped>\n",
       "    .dataframe tbody tr th:only-of-type {\n",
       "        vertical-align: middle;\n",
       "    }\n",
       "\n",
       "    .dataframe tbody tr th {\n",
       "        vertical-align: top;\n",
       "    }\n",
       "\n",
       "    .dataframe thead th {\n",
       "        text-align: right;\n",
       "    }\n",
       "</style>\n",
       "<table border=\"1\" class=\"dataframe\">\n",
       "  <thead>\n",
       "    <tr style=\"text-align: right;\">\n",
       "      <th></th>\n",
       "      <th></th>\n",
       "      <th>payment_type</th>\n",
       "    </tr>\n",
       "    <tr>\n",
       "      <th>senior_citizen</th>\n",
       "      <th>payment_type</th>\n",
       "      <th></th>\n",
       "    </tr>\n",
       "  </thead>\n",
       "  <tbody>\n",
       "    <tr>\n",
       "      <th rowspan=\"4\" valign=\"top\">No</th>\n",
       "      <th>Electronic check</th>\n",
       "      <td>965</td>\n",
       "    </tr>\n",
       "    <tr>\n",
       "      <th>Mailed check</th>\n",
       "      <td>844</td>\n",
       "    </tr>\n",
       "    <tr>\n",
       "      <th>Credit card</th>\n",
       "      <td>763</td>\n",
       "    </tr>\n",
       "    <tr>\n",
       "      <th>Bank transfer</th>\n",
       "      <td>730</td>\n",
       "    </tr>\n",
       "    <tr>\n",
       "      <th rowspan=\"4\" valign=\"top\">Yes</th>\n",
       "      <th>Electronic check</th>\n",
       "      <td>324</td>\n",
       "    </tr>\n",
       "    <tr>\n",
       "      <th>Bank transfer</th>\n",
       "      <td>132</td>\n",
       "    </tr>\n",
       "    <tr>\n",
       "      <th>Credit card</th>\n",
       "      <td>132</td>\n",
       "    </tr>\n",
       "    <tr>\n",
       "      <th>Mailed check</th>\n",
       "      <td>47</td>\n",
       "    </tr>\n",
       "  </tbody>\n",
       "</table>\n",
       "</div>"
      ],
      "text/plain": [
       "                                 payment_type\n",
       "senior_citizen payment_type                  \n",
       "No             Electronic check           965\n",
       "               Mailed check               844\n",
       "               Credit card                763\n",
       "               Bank transfer              730\n",
       "Yes            Electronic check           324\n",
       "               Bank transfer              132\n",
       "               Credit card                132\n",
       "               Mailed check                47"
      ]
     },
     "execution_count": 19,
     "metadata": {},
     "output_type": "execute_result"
    }
   ],
   "source": [
    "df_t = pd.DataFrame(train.groupby('senior_citizen')['payment_type'].value_counts())\n",
    "                   \n",
    "df_t"
   ]
  },
  {
   "cell_type": "code",
   "execution_count": 20,
   "id": "0ad95887",
   "metadata": {},
   "outputs": [
    {
     "data": {
      "text/plain": [
       "<matplotlib.legend.Legend at 0x7fdcf67edd00>"
      ]
     },
     "execution_count": 20,
     "metadata": {},
     "output_type": "execute_result"
    },
    {
     "data": {
      "text/plain": [
       "<Figure size 720x576 with 0 Axes>"
      ]
     },
     "metadata": {},
     "output_type": "display_data"
    },
    {
     "data": {
      "image/png": "[encoded data removed]",
      "text/plain": [
       "<Figure size 432x288 with 1 Axes>"
      ]
     },
     "metadata": {
      "needs_background": "light"
     },
     "output_type": "display_data"
    }
   ],
   "source": [
    "#df.groupby(['feature1', 'feature2']).size().unstack().plot(kind = 'bar', stacked = True)\n",
    "\n",
    "plt.figure(figsize = (10, 8))\n",
    "train.groupby('senior_citizen')['payment_type'].value_counts().unstack().plot(kind = 'bar')\n",
    "plt.xticks(rotation = 0) \n",
    "plt.xlabel('Senior Citizen')\n",
    "plt.legend(title = 'Payment Type')"
   ]
  },
  {
   "cell_type": "markdown",
   "id": "bf8a5dc1",
   "metadata": {},
   "source": [
    "#### Takeaways:\n",
    "- Although both non-seniors and seniors pay most often with electronic check, electronic check is disproportionately favored by seniors.\n"
   ]
  },
  {
   "cell_type": "code",
   "execution_count": 21,
   "id": "ec371665",
   "metadata": {
    "hide_input": true
   },
   "outputs": [
    {
     "data": {
      "text/html": [
       "<div>\n",
       "<style scoped>\n",
       "    .dataframe tbody tr th:only-of-type {\n",
       "        vertical-align: middle;\n",
       "    }\n",
       "\n",
       "    .dataframe tbody tr th {\n",
       "        vertical-align: top;\n",
       "    }\n",
       "\n",
       "    .dataframe thead th {\n",
       "        text-align: right;\n",
       "    }\n",
       "</style>\n",
       "<table border=\"1\" class=\"dataframe\">\n",
       "  <thead>\n",
       "    <tr style=\"text-align: right;\">\n",
       "      <th></th>\n",
       "      <th>monthly_charges</th>\n",
       "    </tr>\n",
       "    <tr>\n",
       "      <th>senior_citizen</th>\n",
       "      <th></th>\n",
       "    </tr>\n",
       "  </thead>\n",
       "  <tbody>\n",
       "    <tr>\n",
       "      <th>No</th>\n",
       "      <td>61.83</td>\n",
       "    </tr>\n",
       "    <tr>\n",
       "      <th>Yes</th>\n",
       "      <td>80.30</td>\n",
       "    </tr>\n",
       "  </tbody>\n",
       "</table>\n",
       "</div>"
      ],
      "text/plain": [
       "                monthly_charges\n",
       "senior_citizen                 \n",
       "No                        61.83\n",
       "Yes                       80.30"
      ]
     },
     "execution_count": 21,
     "metadata": {},
     "output_type": "execute_result"
    }
   ],
   "source": [
    "#do senior citizens have a higher than average bill compared to non-seniors?\n",
    "\n",
    "df_s_mc = pd.DataFrame(round(train.groupby('senior_citizen')['monthly_charges'].mean(),2)) #yes, on avg pay approximately $19 more per month\n",
    "df_s_mc"
   ]
  },
  {
   "cell_type": "code",
   "execution_count": 22,
   "id": "11fd0672",
   "metadata": {
    "hide_input": true
   },
   "outputs": [
    {
     "data": {
      "text/plain": [
       "<matplotlib.legend.Legend at 0x7fdcf564cbe0>"
      ]
     },
     "execution_count": 22,
     "metadata": {},
     "output_type": "execute_result"
    },
    {
     "data": {
      "image/png": "[encoded data removed]",
      "text/plain": [
       "<Figure size 576x432 with 1 Axes>"
      ]
     },
     "metadata": {
      "needs_background": "light"
     },
     "output_type": "display_data"
    }
   ],
   "source": [
    "plt.figure(figsize = (8, 6))\n",
    "train.groupby('senior_citizen')['monthly_charges'].mean().plot(kind = 'bar')\n",
    "plt.xticks(rotation = 0) \n",
    "plt.xlabel('Senior Citizen')\n",
    "plt.ylabel('Monthly Charges')\n",
    "mean_monthly_charges = train.monthly_charges.mean()\n",
    "plt.axhline(mean_monthly_charges, label = 'Mean Monthly Charges',ls = '--', color = 'red')\n",
    "plt.legend()\n",
    "#plt.legend(title = 'Payment Type')"
   ]
  },
  {
   "cell_type": "markdown",
   "id": "e337452e",
   "metadata": {},
   "source": [
    "#### Takeaways:\n",
    "- Seniors have a higher than average monthly bill compared to their younger counterparts."
   ]
  },
  {
   "cell_type": "code",
   "execution_count": 23,
   "id": "50cb34c9",
   "metadata": {
    "hide_input": true
   },
   "outputs": [
    {
     "data": {
      "text/html": [
       "<div>\n",
       "<style scoped>\n",
       "    .dataframe tbody tr th:only-of-type {\n",
       "        vertical-align: middle;\n",
       "    }\n",
       "\n",
       "    .dataframe tbody tr th {\n",
       "        vertical-align: top;\n",
       "    }\n",
       "\n",
       "    .dataframe thead th {\n",
       "        text-align: right;\n",
       "    }\n",
       "</style>\n",
       "<table border=\"1\" class=\"dataframe\">\n",
       "  <thead>\n",
       "    <tr style=\"text-align: right;\">\n",
       "      <th></th>\n",
       "      <th></th>\n",
       "      <th>payment_type</th>\n",
       "    </tr>\n",
       "    <tr>\n",
       "      <th>partner</th>\n",
       "      <th>payment_type</th>\n",
       "      <th></th>\n",
       "    </tr>\n",
       "  </thead>\n",
       "  <tbody>\n",
       "    <tr>\n",
       "      <th rowspan=\"4\" valign=\"top\">No</th>\n",
       "      <th>Electronic check</th>\n",
       "      <td>738</td>\n",
       "    </tr>\n",
       "    <tr>\n",
       "      <th>Mailed check</th>\n",
       "      <td>533</td>\n",
       "    </tr>\n",
       "    <tr>\n",
       "      <th>Credit card</th>\n",
       "      <td>393</td>\n",
       "    </tr>\n",
       "    <tr>\n",
       "      <th>Bank transfer</th>\n",
       "      <td>363</td>\n",
       "    </tr>\n",
       "    <tr>\n",
       "      <th rowspan=\"4\" valign=\"top\">Yes</th>\n",
       "      <th>Electronic check</th>\n",
       "      <td>551</td>\n",
       "    </tr>\n",
       "    <tr>\n",
       "      <th>Credit card</th>\n",
       "      <td>502</td>\n",
       "    </tr>\n",
       "    <tr>\n",
       "      <th>Bank transfer</th>\n",
       "      <td>499</td>\n",
       "    </tr>\n",
       "    <tr>\n",
       "      <th>Mailed check</th>\n",
       "      <td>358</td>\n",
       "    </tr>\n",
       "  </tbody>\n",
       "</table>\n",
       "</div>"
      ],
      "text/plain": [
       "                          payment_type\n",
       "partner payment_type                  \n",
       "No      Electronic check           738\n",
       "        Mailed check               533\n",
       "        Credit card                393\n",
       "        Bank transfer              363\n",
       "Yes     Electronic check           551\n",
       "        Credit card                502\n",
       "        Bank transfer              499\n",
       "        Mailed check               358"
      ]
     },
     "execution_count": 23,
     "metadata": {},
     "output_type": "execute_result"
    }
   ],
   "source": [
    "df_t_p = pd.DataFrame(train.groupby('partner')['payment_type'].value_counts())\n",
    "                   \n",
    "df_t_p"
   ]
  },
  {
   "cell_type": "code",
   "execution_count": 24,
   "id": "4ced18d2",
   "metadata": {
    "hide_input": true
   },
   "outputs": [
    {
     "data": {
      "text/plain": [
       "<matplotlib.legend.Legend at 0x7fdcf5735a00>"
      ]
     },
     "execution_count": 24,
     "metadata": {},
     "output_type": "execute_result"
    },
    {
     "data": {
      "text/plain": [
       "<Figure size 720x576 with 0 Axes>"
      ]
     },
     "metadata": {},
     "output_type": "display_data"
    },
    {
     "data": {
      "image/png": "[encoded data removed]",
      "text/plain": [
       "<Figure size 432x288 with 1 Axes>"
      ]
     },
     "metadata": {
      "needs_background": "light"
     },
     "output_type": "display_data"
    }
   ],
   "source": [
    "plt.figure(figsize = (10, 8))\n",
    "train.groupby('partner')['payment_type'].value_counts().unstack().plot(kind = 'bar')\n",
    "plt.xticks(rotation = 0) \n",
    "plt.xlabel('Partner Status')\n",
    "plt.legend(title = 'Payment Type')"
   ]
  },
  {
   "cell_type": "markdown",
   "id": "97ca8ab4",
   "metadata": {},
   "source": [
    "#### Takeaways:\n",
    "- Electronic check is used most often in both those with partners and those without partners, but is disproportionately favored by those flying solo."
   ]
  },
  {
   "cell_type": "code",
   "execution_count": 25,
   "id": "f5ea511b",
   "metadata": {
    "hide_input": true
   },
   "outputs": [
    {
     "data": {
      "text/html": [
       "<div>\n",
       "<style scoped>\n",
       "    .dataframe tbody tr th:only-of-type {\n",
       "        vertical-align: middle;\n",
       "    }\n",
       "\n",
       "    .dataframe tbody tr th {\n",
       "        vertical-align: top;\n",
       "    }\n",
       "\n",
       "    .dataframe thead th {\n",
       "        text-align: right;\n",
       "    }\n",
       "</style>\n",
       "<table border=\"1\" class=\"dataframe\">\n",
       "  <thead>\n",
       "    <tr style=\"text-align: right;\">\n",
       "      <th></th>\n",
       "      <th>monthly_charges</th>\n",
       "    </tr>\n",
       "    <tr>\n",
       "      <th>partner</th>\n",
       "      <th></th>\n",
       "    </tr>\n",
       "  </thead>\n",
       "  <tbody>\n",
       "    <tr>\n",
       "      <th>No</th>\n",
       "      <td>61.37</td>\n",
       "    </tr>\n",
       "    <tr>\n",
       "      <th>Yes</th>\n",
       "      <td>68.46</td>\n",
       "    </tr>\n",
       "  </tbody>\n",
       "</table>\n",
       "</div>"
      ],
      "text/plain": [
       "         monthly_charges\n",
       "partner                 \n",
       "No                 61.37\n",
       "Yes                68.46"
      ]
     },
     "execution_count": 25,
     "metadata": {},
     "output_type": "execute_result"
    }
   ],
   "source": [
    "#do people with partners have higher monthly charges?\n",
    "\n",
    "df_p_mc = pd.DataFrame(round(train.groupby('partner')['monthly_charges'].mean(),2))\n",
    "df_p_mc"
   ]
  },
  {
   "cell_type": "code",
   "execution_count": 26,
   "id": "4be58dda",
   "metadata": {
    "hide_input": true,
    "scrolled": false
   },
   "outputs": [
    {
     "data": {
      "text/plain": [
       "<matplotlib.legend.Legend at 0x7fdcf57969d0>"
      ]
     },
     "execution_count": 26,
     "metadata": {},
     "output_type": "execute_result"
    },
    {
     "data": {
      "image/png": "[encoded data removed]",
      "text/plain": [
       "<Figure size 576x432 with 1 Axes>"
      ]
     },
     "metadata": {
      "needs_background": "light"
     },
     "output_type": "display_data"
    }
   ],
   "source": [
    "plt.figure(figsize = (8, 6))\n",
    "train.groupby('partner')['monthly_charges'].mean().plot(kind = 'bar')\n",
    "plt.xticks(rotation = 0) \n",
    "plt.xlabel('Partner')\n",
    "plt.ylabel('Monthly Charges')\n",
    "mean_monthly_charges = train.monthly_charges.mean()\n",
    "plt.axhline(mean_monthly_charges, label = 'Mean Monthly Charges',ls = '--', color = 'red')\n",
    "plt.legend()"
   ]
  },
  {
   "cell_type": "code",
   "execution_count": 27,
   "id": "ffeffdef",
   "metadata": {
    "hide_input": true
   },
   "outputs": [
    {
     "data": {
      "image/png": "[encoded data removed]",
      "text/plain": [
       "<Figure size 576x432 with 1 Axes>"
      ]
     },
     "metadata": {
      "needs_background": "light"
     },
     "output_type": "display_data"
    }
   ],
   "source": [
    "fig, ax = plt.subplots(figsize = (8, 6))\n",
    "stacked_bar_plot(data = data_viz, x = 'senior_citizen', y = 'churn', ax = ax)"
   ]
  },
  {
   "cell_type": "code",
   "execution_count": 28,
   "id": "1b4fea27",
   "metadata": {
    "hide_input": true,
    "scrolled": true
   },
   "outputs": [
    {
     "data": {
      "image/png": "[encoded data removed]",
      "text/plain": [
       "<Figure size 576x432 with 1 Axes>"
      ]
     },
     "metadata": {
      "needs_background": "light"
     },
     "output_type": "display_data"
    }
   ],
   "source": [
    "fig, ax = plt.subplots(figsize = (8, 6))\n",
    "stacked_bar_plot(data = data_viz, x = 'partner', y = 'churn', ax = ax)"
   ]
  },
  {
   "cell_type": "code",
   "execution_count": 29,
   "id": "8e3cdd7a",
   "metadata": {
    "hide_input": true
   },
   "outputs": [
    {
     "data": {
      "image/png": "[encoded data removed]",
      "text/plain": [
       "<Figure size 1152x576 with 1 Axes>"
      ]
     },
     "metadata": {
      "needs_background": "light"
     },
     "output_type": "display_data"
    }
   ],
   "source": [
    "#Do seniors represent a higher proportion of MTM contracts? - Visualization\n",
    "colors = ['r','y', 'g']\n",
    "contract_churn = train.groupby(['senior_citizen', 'contract_type']).size().unstack()\n",
    "\n",
    "ax = (contract_churn.T * 100.0 / contract_churn.T.sum()).T.plot(kind = 'bar',\n",
    "                                                                width = 0.3,\n",
    "                                                                stacked = True,\n",
    "                                                                rot = 0, \n",
    "                                                                figsize = (16,8),\n",
    "                                                                color = colors)\n",
    "ax.yaxis.set_major_formatter(mtick.PercentFormatter())\n",
    "ax.legend(loc='best',prop={'size':14},title = 'Contract Type')\n",
    "ax.set_ylabel('Customer Percentage',size = 14)\n",
    "ax.set_title('Senior Citizen Contract Type',size = 14)\n",
    "ax.set_xlabel('Senior Citizen')\n",
    "\n",
    "# Code to add the data labels on the stacked bar chart\n",
    "for p in ax.patches:\n",
    "    width, height = p.get_width(), p.get_height()\n",
    "    x, y = p.get_xy() \n",
    "    ax.annotate('{:.0f}%'.format(height), (p.get_x() + .40 * width, p.get_y()+.4*height), #changed from .25 * width to .40 * width to center\n",
    "                color = 'white',\n",
    "                weight = 'bold',\n",
    "                size = 16)\n",
    "\n",
    "sns.despine(left = True, bottom = True)    \n",
    "plt.tight_layout()"
   ]
  },
  {
   "cell_type": "markdown",
   "id": "b72c1fdc",
   "metadata": {
    "hide_input": false
   },
   "source": [
    "#### Churn Probability (Encoded)"
   ]
  },
  {
   "cell_type": "code",
   "execution_count": 30,
   "id": "5e224228",
   "metadata": {
    "hide_input": true
   },
   "outputs": [
    {
     "data": {
      "image/png": "[encoded data removed]",
      "text/plain": [
       "<Figure size 1152x576 with 1 Axes>"
      ]
     },
     "metadata": {},
     "output_type": "display_data"
    }
   ],
   "source": [
    "my_colors = list(islice(cycle(['b', 'r', 'g', 'y', 'c', 'm']), None, len(train)))\n",
    "sns.set(style = 'white')\n",
    "plt.figure(figsize = (16, 8))\n",
    "train.corr()['churn_encoded'].drop('churn_encoded').sort_values(ascending = False).plot(kind = 'bar', color = my_colors)\n",
    "sns.despine(left = True, bottom = True)\n",
    "plt.tight_layout()\n",
    "#plt.xticks(rotation = 80) "
   ]
  },
  {
   "cell_type": "markdown",
   "id": "7bb0ead9",
   "metadata": {},
   "source": [
    "#### Takeaways:\n",
    "- The top predictors of churn are:\n",
    "    - Fiber optic internet service\n",
    "    - Electronic check payment type\n",
    "    - Monthly charges\n",
    "    - Paperless billing\n",
    "    - Seniority\n",
    "    "
   ]
  },
  {
   "cell_type": "code",
   "execution_count": 31,
   "id": "71ca74f7",
   "metadata": {
    "hide_input": true
   },
   "outputs": [
    {
     "data": {
      "image/png": "[encoded data removed]",
      "text/plain": [
       "<Figure size 720x864 with 1 Axes>"
      ]
     },
     "metadata": {},
     "output_type": "display_data"
    }
   ],
   "source": [
    "corr_matrix = train.corr().round(3)\n",
    "corr_target = corr_matrix['churn_encoded'].drop('churn_encoded')\n",
    "\n",
    "\n",
    "fig, ax = plt.subplots(figsize = (10, 12))\n",
    "\n",
    "sns.barplot(x = corr_target.values, y = corr_target.index, ax = ax)\n",
    "ax.bar_label(ax.containers[0], padding = 3, fmt = '%.2f', fontsize = 12, fontweight = 'medium')\n",
    "\n",
    "ax.axis = ('tight')\n",
    "sns.despine(left = True)\n",
    "plt.show()"
   ]
  },
  {
   "cell_type": "code",
   "execution_count": null,
   "id": "f6edf8b7",
   "metadata": {
    "hide_input": true
   },
   "outputs": [],
   "source": []
  },
  {
   "cell_type": "code",
   "execution_count": 32,
   "id": "b7ae2fa2",
   "metadata": {
    "scrolled": true
   },
   "outputs": [],
   "source": [
    "categorical_columns = ['gender', \n",
    "                       'senior_citizen', \n",
    "                       'partner', \n",
    "                       'dependents', \n",
    "                       'phone_service', \n",
    "                       'multiple_lines', \n",
    "                       'online_security', \n",
    "                       'online_backup', \n",
    "                       'device_protection', \n",
    "                       'tech_support', \n",
    "                       'streaming_tv', \n",
    "                       'streaming_movies', \n",
    "                       'paperless_billing', \n",
    "                       'churn', \n",
    "                       'internet_service_type', \n",
    "                       'contract_type', \n",
    "                       'payment_type']\n"
   ]
  },
  {
   "cell_type": "code",
   "execution_count": 160,
   "id": "46c705c4",
   "metadata": {},
   "outputs": [],
   "source": [
    "def show_scores(TN, FP, FN, TP):\n",
    "    \n",
    "    ALL = TP + TN + FP + FN\n",
    "    \n",
    "    accuracy = (TP + TN)/ALL # How often did the model get it right?\n",
    "    precision = TP/(TP+FP) # What is the quality of a positive prediction made by the model?\n",
    "    recall = TP/(TP+FN) # How many of the true positives were found?   \n",
    "    \n",
    "    true_positive_rate = TP/(TP+FN) # Same as recall, actually\n",
    "    true_negative_rate = TN/(TN+FP) # How many of the true negatives were found?\n",
    "    false_positive_rate = FP/(FP+TN) # How often did we miss the negative and accidentally call it positive?\n",
    "    false_negative_rate = FN/(FN+TP) # How often did we miss the positive and accidentally call it negative?\n",
    "    \n",
    "    f1_score = 2*(precision*recall)/(precision+recall) # Harmonic mean, good for imbalanced data sets\n",
    "    support_pos = TP + FN # Number of actual positives in the sample\n",
    "    support_neg = FP + TN # Number of actual negatives in the sample\n",
    "    \n",
    "    print(f\"Accuracy: {accuracy}\")\n",
    "    print(f\"Precision: {precision}\")\n",
    "    print(f\"Recall: {recall}\")\n",
    "    print(f\"True Positive Rate: {true_positive_rate}\")\n",
    "    print(f\"True Negative Rate: {true_negative_rate}\")\n",
    "    print(f\"False Positive Rate: {false_positive_rate}\")\n",
    "    print(f\"False Negative Rate: {false_negative_rate}\")\n",
    "    print(f\"F1 Score: {f1_score}\")\n",
    "    print(f\"Support (0): {support_pos}\")\n",
    "    print(f\"Support (1): {support_neg}\")"
   ]
  },
  {
   "cell_type": "markdown",
   "id": "c3223127",
   "metadata": {},
   "source": [
    "# Modeling"
   ]
  },
  {
   "cell_type": "code",
   "execution_count": 33,
   "id": "4865fc10",
   "metadata": {
    "hide_input": true
   },
   "outputs": [],
   "source": [
    "categorical_columns.append('churn')\n",
    "categorical_columns.append('churn_encoded')\n",
    "\n",
    "\n",
    "X_train = train.drop(columns = categorical_columns)\n",
    "y_train = train.churn_encoded\n",
    "\n",
    "X_validate = validate.drop(columns = categorical_columns)\n",
    "y_validate = validate.churn_encoded\n",
    "\n",
    "X_test = test.drop(columns = categorical_columns)\n",
    "y_test = test.churn_encoded"
   ]
  },
  {
   "cell_type": "markdown",
   "id": "df3c41ca",
   "metadata": {},
   "source": [
    "### Establish a Baseline"
   ]
  },
  {
   "cell_type": "code",
   "execution_count": 34,
   "id": "c45dfa96",
   "metadata": {
    "hide_input": true
   },
   "outputs": [
    {
     "name": "stdout",
     "output_type": "stream",
     "text": [
      "Baseline Accuracy: 0.73\n"
     ]
    }
   ],
   "source": [
    "# since most customers in this dataset did not churn, use mode as baseline\n",
    "\n",
    "baseline = y_train.mode()\n",
    "\n",
    "#boolean array\n",
    "baseline_prediction = y_train == 0\n",
    "\n",
    "baseline_accuracy = round(baseline_prediction.mean(),2)\n",
    "print(f'Baseline Accuracy: {baseline_accuracy}') "
   ]
  },
  {
   "cell_type": "markdown",
   "id": "d761f946",
   "metadata": {
    "hide_input": true
   },
   "source": [
    "### Decision Tree"
   ]
  },
  {
   "cell_type": "code",
   "execution_count": 174,
   "id": "6dceb29d",
   "metadata": {
    "hide_input": false
   },
   "outputs": [
    {
     "name": "stdout",
     "output_type": "stream",
     "text": [
      "Accuracy of Decision Tree Classifier on training set: 0.81\n",
      "Classification report, Train:\n",
      "~~~~~~~~~~~~~~~~~~~~~~~~~~~~~\n"
     ]
    },
    {
     "data": {
      "text/html": [
       "<div>\n",
       "<style scoped>\n",
       "    .dataframe tbody tr th:only-of-type {\n",
       "        vertical-align: middle;\n",
       "    }\n",
       "\n",
       "    .dataframe tbody tr th {\n",
       "        vertical-align: top;\n",
       "    }\n",
       "\n",
       "    .dataframe thead th {\n",
       "        text-align: right;\n",
       "    }\n",
       "</style>\n",
       "<table border=\"1\" class=\"dataframe\">\n",
       "  <thead>\n",
       "    <tr style=\"text-align: right;\">\n",
       "      <th></th>\n",
       "      <th>0</th>\n",
       "      <th>1</th>\n",
       "      <th>accuracy</th>\n",
       "      <th>macro avg</th>\n",
       "      <th>weighted avg</th>\n",
       "    </tr>\n",
       "  </thead>\n",
       "  <tbody>\n",
       "    <tr>\n",
       "      <th>precision</th>\n",
       "      <td>0.827745</td>\n",
       "      <td>0.708455</td>\n",
       "      <td>0.80696</td>\n",
       "      <td>0.768100</td>\n",
       "      <td>0.796052</td>\n",
       "    </tr>\n",
       "    <tr>\n",
       "      <th>recall</th>\n",
       "      <td>0.930820</td>\n",
       "      <td>0.464627</td>\n",
       "      <td>0.80696</td>\n",
       "      <td>0.697723</td>\n",
       "      <td>0.806960</td>\n",
       "    </tr>\n",
       "    <tr>\n",
       "      <th>f1-score</th>\n",
       "      <td>0.876262</td>\n",
       "      <td>0.561201</td>\n",
       "      <td>0.80696</td>\n",
       "      <td>0.718731</td>\n",
       "      <td>0.792555</td>\n",
       "    </tr>\n",
       "    <tr>\n",
       "      <th>support</th>\n",
       "      <td>2891.000000</td>\n",
       "      <td>1046.000000</td>\n",
       "      <td>0.80696</td>\n",
       "      <td>3937.000000</td>\n",
       "      <td>3937.000000</td>\n",
       "    </tr>\n",
       "  </tbody>\n",
       "</table>\n",
       "</div>"
      ],
      "text/plain": [
       "                     0            1  accuracy    macro avg  weighted avg\n",
       "precision     0.827745     0.708455   0.80696     0.768100      0.796052\n",
       "recall        0.930820     0.464627   0.80696     0.697723      0.806960\n",
       "f1-score      0.876262     0.561201   0.80696     0.718731      0.792555\n",
       "support    2891.000000  1046.000000   0.80696  3937.000000   3937.000000"
      ]
     },
     "execution_count": 174,
     "metadata": {},
     "output_type": "execute_result"
    }
   ],
   "source": [
    "clf = DecisionTreeClassifier(max_depth = 5, random_state = 123)\n",
    "# model.fit(X , y)\n",
    "clf = clf.fit(X_train, y_train)\n",
    "#make predictions\n",
    "y_predictions1 = clf.predict(X_train)\n",
    "#estimate probability\n",
    "y_pred_proba1 = clf.predict_proba(X_train)\n",
    "\n",
    "print('Accuracy of Decision Tree Classifier on training set: {:.2f}'.format(clf.score(X_train, y_train)))\n",
    "\n",
    "print('Classification report, Train:')\n",
    "print('~~~~~~~~~~~~~~~~~~~~~~~~~~~~~')\n",
    "report = classification_report(y_train, y_predictions1, output_dict = True)\n",
    "pd.DataFrame(report)"
   ]
  },
  {
   "cell_type": "code",
   "execution_count": null,
   "id": "ec60db1b",
   "metadata": {
    "scrolled": true
   },
   "outputs": [],
   "source": []
  },
  {
   "cell_type": "code",
   "execution_count": 175,
   "id": "19ebcbf7",
   "metadata": {
    "hide_input": false,
    "scrolled": true
   },
   "outputs": [
    {
     "name": "stdout",
     "output_type": "stream",
     "text": [
      "Confusion Matrix:\n",
      "~~~~~~~~~~~~~~~~~~~~~~\n"
     ]
    },
    {
     "data": {
      "text/html": [
       "<div>\n",
       "<style scoped>\n",
       "    .dataframe tbody tr th:only-of-type {\n",
       "        vertical-align: middle;\n",
       "    }\n",
       "\n",
       "    .dataframe tbody tr th {\n",
       "        vertical-align: top;\n",
       "    }\n",
       "\n",
       "    .dataframe thead th {\n",
       "        text-align: right;\n",
       "    }\n",
       "</style>\n",
       "<table border=\"1\" class=\"dataframe\">\n",
       "  <thead>\n",
       "    <tr style=\"text-align: right;\">\n",
       "      <th></th>\n",
       "      <th>Pred. Retained</th>\n",
       "      <th>Pred. Churned</th>\n",
       "    </tr>\n",
       "  </thead>\n",
       "  <tbody>\n",
       "    <tr>\n",
       "      <th>Actually Retained</th>\n",
       "      <td>2691</td>\n",
       "      <td>200</td>\n",
       "    </tr>\n",
       "    <tr>\n",
       "      <th>Actually Churned</th>\n",
       "      <td>560</td>\n",
       "      <td>486</td>\n",
       "    </tr>\n",
       "  </tbody>\n",
       "</table>\n",
       "</div>"
      ],
      "text/plain": [
       "                   Pred. Retained  Pred. Churned\n",
       "Actually Retained            2691            200\n",
       "Actually Churned              560            486"
      ]
     },
     "execution_count": 175,
     "metadata": {},
     "output_type": "execute_result"
    }
   ],
   "source": [
    "act_labels = ['Actually Retained','Actually Churned']\n",
    "col_labels = ['Pred. Retained', 'Pred. Churned']\n",
    "print('Confusion Matrix:')\n",
    "print('~~~~~~~~~~~~~~~~~~~~~~')\n",
    "pd.DataFrame(confusion_matrix(y_train, y_predictions1), index = act_labels, columns = col_labels)"
   ]
  },
  {
   "cell_type": "code",
   "execution_count": 176,
   "id": "c708e8b0",
   "metadata": {},
   "outputs": [
    {
     "data": {
      "text/plain": [
       "(2691, 560, 200, 486)"
      ]
     },
     "execution_count": 176,
     "metadata": {},
     "output_type": "execute_result"
    }
   ],
   "source": [
    "TP, FN, FP, TN = confusion_matrix(y_train, y_predictions1, labels = [1, 0]).ravel()\n",
    "#ALL = TP + TN + FP + FN\n",
    "\n",
    "TN, FN, FP, TP"
   ]
  },
  {
   "cell_type": "code",
   "execution_count": 177,
   "id": "05565601",
   "metadata": {},
   "outputs": [
    {
     "name": "stdout",
     "output_type": "stream",
     "text": [
      "Accuracy: 0.8069596139192279\n",
      "Precision: 0.7084548104956269\n",
      "Recall: 0.4646271510516252\n",
      "True Positive Rate: 0.4646271510516252\n",
      "True Negative Rate: 0.9308197855413352\n",
      "False Positive Rate: 0.06918021445866482\n",
      "False Negative Rate: 0.5353728489483748\n",
      "F1 Score: 0.5612009237875288\n",
      "Support (0): 1046\n",
      "Support (1): 2891\n"
     ]
    }
   ],
   "source": [
    "ALL = TP + TN + FP + FN\n",
    "    \n",
    "accuracy = (TP + TN)/ALL # How often did the model get it right?\n",
    "precision = TP/(TP+FP) # What is the quality of a positive prediction made by the model?\n",
    "recall = TP/(TP+FN) # How many of the true positives were found?   \n",
    "    \n",
    "true_positive_rate = TP/(TP+FN) # Same as recall, actually\n",
    "true_negative_rate = TN/(TN+FP) # How many of the true negatives were found?\n",
    "false_positive_rate = FP/(FP+TN) # How often did we miss the negative and accidentally call it positive?\n",
    "false_negative_rate = FN/(FN+TP) # How often did we miss the positive and accidentally call it negative?\n",
    "    \n",
    "f1_score = 2*(precision*recall)/(precision+recall) # Harmonic mean, good for imbalanced data sets\n",
    "support_pos = TP + FN # Number of actual positives in the sample\n",
    "support_neg = FP + TN # Number of actual negatives in the sample\n",
    "    \n",
    "print(f\"Accuracy: {accuracy}\")\n",
    "print(f\"Precision: {precision}\")\n",
    "print(f\"Recall: {recall}\")\n",
    "print(f\"True Positive Rate: {true_positive_rate}\")\n",
    "print(f\"True Negative Rate: {true_negative_rate}\")\n",
    "print(f\"False Positive Rate: {false_positive_rate}\")\n",
    "print(f\"False Negative Rate: {false_negative_rate}\")\n",
    "print(f\"F1 Score: {f1_score}\")\n",
    "print(f\"Support (0): {support_pos}\")\n",
    "print(f\"Support (1): {support_neg}\")\n"
   ]
  },
  {
   "cell_type": "markdown",
   "id": "c29a6870",
   "metadata": {},
   "source": [
    "### Random Forest"
   ]
  },
  {
   "cell_type": "code",
   "execution_count": 178,
   "id": "2076d49b",
   "metadata": {
    "hide_input": false
   },
   "outputs": [
    {
     "name": "stdout",
     "output_type": "stream",
     "text": [
      "Accuracy of Random Forest Classifier on training set: 0.80\n",
      "Classification report, Train:\n",
      "~~~~~~~~~~~~~~~~~~~~~~~~~~~~~\n"
     ]
    },
    {
     "data": {
      "text/html": [
       "<div>\n",
       "<style scoped>\n",
       "    .dataframe tbody tr th:only-of-type {\n",
       "        vertical-align: middle;\n",
       "    }\n",
       "\n",
       "    .dataframe tbody tr th {\n",
       "        vertical-align: top;\n",
       "    }\n",
       "\n",
       "    .dataframe thead th {\n",
       "        text-align: right;\n",
       "    }\n",
       "</style>\n",
       "<table border=\"1\" class=\"dataframe\">\n",
       "  <thead>\n",
       "    <tr style=\"text-align: right;\">\n",
       "      <th></th>\n",
       "      <th>0</th>\n",
       "      <th>1</th>\n",
       "      <th>accuracy</th>\n",
       "      <th>macro avg</th>\n",
       "      <th>weighted avg</th>\n",
       "    </tr>\n",
       "  </thead>\n",
       "  <tbody>\n",
       "    <tr>\n",
       "      <th>precision</th>\n",
       "      <td>0.816821</td>\n",
       "      <td>0.728188</td>\n",
       "      <td>0.803404</td>\n",
       "      <td>0.772505</td>\n",
       "      <td>0.793273</td>\n",
       "    </tr>\n",
       "    <tr>\n",
       "      <th>recall</th>\n",
       "      <td>0.943964</td>\n",
       "      <td>0.414914</td>\n",
       "      <td>0.803404</td>\n",
       "      <td>0.679439</td>\n",
       "      <td>0.803404</td>\n",
       "    </tr>\n",
       "    <tr>\n",
       "      <th>f1-score</th>\n",
       "      <td>0.875802</td>\n",
       "      <td>0.528624</td>\n",
       "      <td>0.803404</td>\n",
       "      <td>0.702213</td>\n",
       "      <td>0.783562</td>\n",
       "    </tr>\n",
       "    <tr>\n",
       "      <th>support</th>\n",
       "      <td>2891.000000</td>\n",
       "      <td>1046.000000</td>\n",
       "      <td>0.803404</td>\n",
       "      <td>3937.000000</td>\n",
       "      <td>3937.000000</td>\n",
       "    </tr>\n",
       "  </tbody>\n",
       "</table>\n",
       "</div>"
      ],
      "text/plain": [
       "                     0            1  accuracy    macro avg  weighted avg\n",
       "precision     0.816821     0.728188  0.803404     0.772505      0.793273\n",
       "recall        0.943964     0.414914  0.803404     0.679439      0.803404\n",
       "f1-score      0.875802     0.528624  0.803404     0.702213      0.783562\n",
       "support    2891.000000  1046.000000  0.803404  3937.000000   3937.000000"
      ]
     },
     "execution_count": 178,
     "metadata": {},
     "output_type": "execute_result"
    }
   ],
   "source": [
    "rf = RandomForestClassifier(max_depth = 5, min_samples_leaf = 5,random_state = 123)\n",
    "\n",
    "# fit the model on train\n",
    "rf.fit(X_train, y_train)\n",
    "#make predictions\n",
    "y_predictions2 = rf.predict(X_train)\n",
    "#estimate probability\n",
    "y_pred_proba2 = rf.predict_proba(X_train)\n",
    "\n",
    "# Use the model \n",
    "# We'll evaluate the model's performance on train and only train\n",
    "\n",
    "y_predictions = rf.predict(X_train)\n",
    "print('Accuracy of Random Forest Classifier on training set: {:.2f}'.format(rf.score(X_train, y_train)))\n",
    "print('Classification report, Train:')\n",
    "print('~~~~~~~~~~~~~~~~~~~~~~~~~~~~~')\n",
    "#produce the classification report on the y values and this models predicted y values\n",
    "report = classification_report(y_train, y_predictions2, output_dict = True)\n",
    "pd.DataFrame(report)"
   ]
  },
  {
   "cell_type": "code",
   "execution_count": null,
   "id": "4e9a79f2",
   "metadata": {},
   "outputs": [],
   "source": []
  },
  {
   "cell_type": "code",
   "execution_count": 179,
   "id": "b9ac1455",
   "metadata": {
    "hide_input": false
   },
   "outputs": [
    {
     "name": "stdout",
     "output_type": "stream",
     "text": [
      "Confusion Matrix:\n",
      "~~~~~~~~~~~~~~~~~~~~~~\n"
     ]
    },
    {
     "data": {
      "text/html": [
       "<div>\n",
       "<style scoped>\n",
       "    .dataframe tbody tr th:only-of-type {\n",
       "        vertical-align: middle;\n",
       "    }\n",
       "\n",
       "    .dataframe tbody tr th {\n",
       "        vertical-align: top;\n",
       "    }\n",
       "\n",
       "    .dataframe thead th {\n",
       "        text-align: right;\n",
       "    }\n",
       "</style>\n",
       "<table border=\"1\" class=\"dataframe\">\n",
       "  <thead>\n",
       "    <tr style=\"text-align: right;\">\n",
       "      <th></th>\n",
       "      <th>Pred. Retained</th>\n",
       "      <th>Pred. Churned</th>\n",
       "    </tr>\n",
       "  </thead>\n",
       "  <tbody>\n",
       "    <tr>\n",
       "      <th>Actually Retained</th>\n",
       "      <td>2729</td>\n",
       "      <td>162</td>\n",
       "    </tr>\n",
       "    <tr>\n",
       "      <th>Actually Churned</th>\n",
       "      <td>612</td>\n",
       "      <td>434</td>\n",
       "    </tr>\n",
       "  </tbody>\n",
       "</table>\n",
       "</div>"
      ],
      "text/plain": [
       "                   Pred. Retained  Pred. Churned\n",
       "Actually Retained            2729            162\n",
       "Actually Churned              612            434"
      ]
     },
     "execution_count": 179,
     "metadata": {},
     "output_type": "execute_result"
    }
   ],
   "source": [
    "labels = ['Actually Retained','Actually Churned']\n",
    "col_labels = ['Pred. Retained', 'Pred. Churned']\n",
    "print('Confusion Matrix:')\n",
    "print('~~~~~~~~~~~~~~~~~~~~~~')\n",
    "pd.DataFrame(confusion_matrix(y_train, y_predictions2), index = labels, columns = col_labels)"
   ]
  },
  {
   "cell_type": "code",
   "execution_count": 180,
   "id": "aba3968f",
   "metadata": {},
   "outputs": [
    {
     "data": {
      "text/plain": [
       "(2729, 612, 162, 434)"
      ]
     },
     "execution_count": 180,
     "metadata": {},
     "output_type": "execute_result"
    }
   ],
   "source": [
    "TP, FN, FP, TN = confusion_matrix(y_train, y_predictions2, labels = [1, 0]).ravel()\n",
    "ALL = TP + TN + FP + FN\n",
    "\n",
    "TN, FN, FP, TP"
   ]
  },
  {
   "cell_type": "markdown",
   "id": "217806e9",
   "metadata": {},
   "source": [
    "### K Nearest Neighbors"
   ]
  },
  {
   "cell_type": "code",
   "execution_count": 181,
   "id": "23e587ea",
   "metadata": {
    "hide_input": false
   },
   "outputs": [
    {
     "name": "stdout",
     "output_type": "stream",
     "text": [
      "Accuracy of K Nearest Neighbors Classifier on training set: 0.81\n",
      "Classification report, Train:\n",
      "~~~~~~~~~~~~~~~~~~~~~~~~~~~~~\n"
     ]
    },
    {
     "data": {
      "text/html": [
       "<div>\n",
       "<style scoped>\n",
       "    .dataframe tbody tr th:only-of-type {\n",
       "        vertical-align: middle;\n",
       "    }\n",
       "\n",
       "    .dataframe tbody tr th {\n",
       "        vertical-align: top;\n",
       "    }\n",
       "\n",
       "    .dataframe thead th {\n",
       "        text-align: right;\n",
       "    }\n",
       "</style>\n",
       "<table border=\"1\" class=\"dataframe\">\n",
       "  <thead>\n",
       "    <tr style=\"text-align: right;\">\n",
       "      <th></th>\n",
       "      <th>0</th>\n",
       "      <th>1</th>\n",
       "      <th>accuracy</th>\n",
       "      <th>macro avg</th>\n",
       "      <th>weighted avg</th>\n",
       "    </tr>\n",
       "  </thead>\n",
       "  <tbody>\n",
       "    <tr>\n",
       "      <th>precision</th>\n",
       "      <td>0.817616</td>\n",
       "      <td>0.762832</td>\n",
       "      <td>0.809754</td>\n",
       "      <td>0.790224</td>\n",
       "      <td>0.803060</td>\n",
       "    </tr>\n",
       "    <tr>\n",
       "      <th>recall</th>\n",
       "      <td>0.953649</td>\n",
       "      <td>0.412046</td>\n",
       "      <td>0.809754</td>\n",
       "      <td>0.682848</td>\n",
       "      <td>0.809754</td>\n",
       "    </tr>\n",
       "    <tr>\n",
       "      <th>f1-score</th>\n",
       "      <td>0.880409</td>\n",
       "      <td>0.535071</td>\n",
       "      <td>0.809754</td>\n",
       "      <td>0.707740</td>\n",
       "      <td>0.788658</td>\n",
       "    </tr>\n",
       "    <tr>\n",
       "      <th>support</th>\n",
       "      <td>2891.000000</td>\n",
       "      <td>1046.000000</td>\n",
       "      <td>0.809754</td>\n",
       "      <td>3937.000000</td>\n",
       "      <td>3937.000000</td>\n",
       "    </tr>\n",
       "  </tbody>\n",
       "</table>\n",
       "</div>"
      ],
      "text/plain": [
       "                     0            1  accuracy    macro avg  weighted avg\n",
       "precision     0.817616     0.762832  0.809754     0.790224      0.803060\n",
       "recall        0.953649     0.412046  0.809754     0.682848      0.809754\n",
       "f1-score      0.880409     0.535071  0.809754     0.707740      0.788658\n",
       "support    2891.000000  1046.000000  0.809754  3937.000000   3937.000000"
      ]
     },
     "execution_count": 181,
     "metadata": {},
     "output_type": "execute_result"
    }
   ],
   "source": [
    "#n_neighbour = 10\n",
    "\n",
    "knn = KNeighborsClassifier(10)\n",
    "knn.fit(X_train, y_train)\n",
    "y_predictions3 = knn.predict(X_train)\n",
    "y_pred_proba3 = knn.predict_proba(X_train)\n",
    "\n",
    "print('Accuracy of K Nearest Neighbors Classifier on training set: {:.2f}'.format(knn.score(X_train, y_train)))\n",
    "print('Classification report, Train:')\n",
    "print('~~~~~~~~~~~~~~~~~~~~~~~~~~~~~')\n",
    "report = classification_report(y_train, y_predictions3, output_dict = True)\n",
    "pd.DataFrame(report)"
   ]
  },
  {
   "cell_type": "code",
   "execution_count": 182,
   "id": "146f78ce",
   "metadata": {
    "hide_input": false
   },
   "outputs": [
    {
     "name": "stdout",
     "output_type": "stream",
     "text": [
      "Confusion Matrix:\n",
      "~~~~~~~~~~~~~~~~~~~~~~\n"
     ]
    },
    {
     "data": {
      "text/html": [
       "<div>\n",
       "<style scoped>\n",
       "    .dataframe tbody tr th:only-of-type {\n",
       "        vertical-align: middle;\n",
       "    }\n",
       "\n",
       "    .dataframe tbody tr th {\n",
       "        vertical-align: top;\n",
       "    }\n",
       "\n",
       "    .dataframe thead th {\n",
       "        text-align: right;\n",
       "    }\n",
       "</style>\n",
       "<table border=\"1\" class=\"dataframe\">\n",
       "  <thead>\n",
       "    <tr style=\"text-align: right;\">\n",
       "      <th></th>\n",
       "      <th>Pred. Retained</th>\n",
       "      <th>Pred. Churned</th>\n",
       "    </tr>\n",
       "  </thead>\n",
       "  <tbody>\n",
       "    <tr>\n",
       "      <th>Actually Retained</th>\n",
       "      <td>2757</td>\n",
       "      <td>134</td>\n",
       "    </tr>\n",
       "    <tr>\n",
       "      <th>Actually Churned</th>\n",
       "      <td>615</td>\n",
       "      <td>431</td>\n",
       "    </tr>\n",
       "  </tbody>\n",
       "</table>\n",
       "</div>"
      ],
      "text/plain": [
       "                   Pred. Retained  Pred. Churned\n",
       "Actually Retained            2757            134\n",
       "Actually Churned              615            431"
      ]
     },
     "execution_count": 182,
     "metadata": {},
     "output_type": "execute_result"
    }
   ],
   "source": [
    "labels = ['Actually Retained','Actually Churned']\n",
    "col_labels = ['Pred. Retained', 'Pred. Churned']\n",
    "print('Confusion Matrix:')\n",
    "print('~~~~~~~~~~~~~~~~~~~~~~')\n",
    "pd.DataFrame(confusion_matrix(y_train, y_predictions3), index = labels, columns = col_labels)"
   ]
  },
  {
   "cell_type": "code",
   "execution_count": 183,
   "id": "c00e1de7",
   "metadata": {},
   "outputs": [
    {
     "data": {
      "text/plain": [
       "(2757, 615, 134, 431)"
      ]
     },
     "execution_count": 183,
     "metadata": {},
     "output_type": "execute_result"
    }
   ],
   "source": [
    "TP, FN, FP, TN = confusion_matrix(y_train, y_predictions3, labels = [1, 0]).ravel()\n",
    "ALL = TP + TN + FP + FN\n",
    "\n",
    "TN, FN, FP, TP"
   ]
  },
  {
   "cell_type": "markdown",
   "id": "2a550cc6",
   "metadata": {},
   "source": [
    "### Logistic Regression"
   ]
  },
  {
   "cell_type": "code",
   "execution_count": 184,
   "id": "8b058375",
   "metadata": {
    "hide_input": false
   },
   "outputs": [
    {
     "name": "stdout",
     "output_type": "stream",
     "text": [
      "Logistic Regression using fiber optic internet service, e-check, and tenure as features\n",
      "Accuracy of Logistic Regression on training set: 0.80\n",
      "Classification report, Train:\n",
      "~~~~~~~~~~~~~~~~~~~~~~~~~~~~~\n"
     ]
    },
    {
     "data": {
      "text/html": [
       "<div>\n",
       "<style scoped>\n",
       "    .dataframe tbody tr th:only-of-type {\n",
       "        vertical-align: middle;\n",
       "    }\n",
       "\n",
       "    .dataframe tbody tr th {\n",
       "        vertical-align: top;\n",
       "    }\n",
       "\n",
       "    .dataframe thead th {\n",
       "        text-align: right;\n",
       "    }\n",
       "</style>\n",
       "<table border=\"1\" class=\"dataframe\">\n",
       "  <thead>\n",
       "    <tr style=\"text-align: right;\">\n",
       "      <th></th>\n",
       "      <th>0</th>\n",
       "      <th>1</th>\n",
       "      <th>accuracy</th>\n",
       "      <th>macro avg</th>\n",
       "      <th>weighted avg</th>\n",
       "    </tr>\n",
       "  </thead>\n",
       "  <tbody>\n",
       "    <tr>\n",
       "      <th>precision</th>\n",
       "      <td>0.825288</td>\n",
       "      <td>0.668044</td>\n",
       "      <td>0.796292</td>\n",
       "      <td>0.746666</td>\n",
       "      <td>0.783511</td>\n",
       "    </tr>\n",
       "    <tr>\n",
       "      <th>recall</th>\n",
       "      <td>0.916638</td>\n",
       "      <td>0.463671</td>\n",
       "      <td>0.796292</td>\n",
       "      <td>0.690154</td>\n",
       "      <td>0.796292</td>\n",
       "    </tr>\n",
       "    <tr>\n",
       "      <th>f1-score</th>\n",
       "      <td>0.868568</td>\n",
       "      <td>0.547404</td>\n",
       "      <td>0.796292</td>\n",
       "      <td>0.707986</td>\n",
       "      <td>0.783239</td>\n",
       "    </tr>\n",
       "    <tr>\n",
       "      <th>support</th>\n",
       "      <td>2891.000000</td>\n",
       "      <td>1046.000000</td>\n",
       "      <td>0.796292</td>\n",
       "      <td>3937.000000</td>\n",
       "      <td>3937.000000</td>\n",
       "    </tr>\n",
       "  </tbody>\n",
       "</table>\n",
       "</div>"
      ],
      "text/plain": [
       "                     0            1  accuracy    macro avg  weighted avg\n",
       "precision     0.825288     0.668044  0.796292     0.746666      0.783511\n",
       "recall        0.916638     0.463671  0.796292     0.690154      0.796292\n",
       "f1-score      0.868568     0.547404  0.796292     0.707986      0.783239\n",
       "support    2891.000000  1046.000000  0.796292  3937.000000   3937.000000"
      ]
     },
     "execution_count": 184,
     "metadata": {},
     "output_type": "execute_result"
    }
   ],
   "source": [
    "logit7 = LogisticRegression(random_state = 123)\n",
    "\n",
    "features = ['internet_service_type_fiber_optic',\n",
    "            'payment_type_electronic_check',\n",
    "            'tenure']\n",
    "\n",
    "logit7.fit(X_train[features], y_train)\n",
    "\n",
    "y_predictions4 = logit7.predict(X_train[features])\n",
    "y_pred_proba4 = logit7.predict_proba(X_train[features])\n",
    "\n",
    "print('Logistic Regression using fiber optic internet service, e-check, and tenure as features')\n",
    "print('Accuracy of Logistic Regression on training set: {:.2f}'.format(logit7.score(X_train[features], y_train)))\n",
    "print('Classification report, Train:')\n",
    "print('~~~~~~~~~~~~~~~~~~~~~~~~~~~~~')\n",
    "\n",
    "report = classification_report(y_train, y_predictions4, output_dict = True)\n",
    "pd.DataFrame(report)"
   ]
  },
  {
   "cell_type": "code",
   "execution_count": 185,
   "id": "0d7d5aab",
   "metadata": {
    "hide_input": false
   },
   "outputs": [
    {
     "name": "stdout",
     "output_type": "stream",
     "text": [
      "Confusion Matrix:\n",
      "~~~~~~~~~~~~~~~~~~~~~~\n"
     ]
    },
    {
     "data": {
      "text/html": [
       "<div>\n",
       "<style scoped>\n",
       "    .dataframe tbody tr th:only-of-type {\n",
       "        vertical-align: middle;\n",
       "    }\n",
       "\n",
       "    .dataframe tbody tr th {\n",
       "        vertical-align: top;\n",
       "    }\n",
       "\n",
       "    .dataframe thead th {\n",
       "        text-align: right;\n",
       "    }\n",
       "</style>\n",
       "<table border=\"1\" class=\"dataframe\">\n",
       "  <thead>\n",
       "    <tr style=\"text-align: right;\">\n",
       "      <th></th>\n",
       "      <th>Pred. Retained</th>\n",
       "      <th>Pred. Churned</th>\n",
       "    </tr>\n",
       "  </thead>\n",
       "  <tbody>\n",
       "    <tr>\n",
       "      <th>Actually Retained</th>\n",
       "      <td>2650</td>\n",
       "      <td>241</td>\n",
       "    </tr>\n",
       "    <tr>\n",
       "      <th>Actually Churned</th>\n",
       "      <td>561</td>\n",
       "      <td>485</td>\n",
       "    </tr>\n",
       "  </tbody>\n",
       "</table>\n",
       "</div>"
      ],
      "text/plain": [
       "                   Pred. Retained  Pred. Churned\n",
       "Actually Retained            2650            241\n",
       "Actually Churned              561            485"
      ]
     },
     "execution_count": 185,
     "metadata": {},
     "output_type": "execute_result"
    }
   ],
   "source": [
    "labels = ['Actually Retained','Actually Churned']\n",
    "col_labels = ['Pred. Retained', 'Pred. Churned']\n",
    "print('Confusion Matrix:')\n",
    "print('~~~~~~~~~~~~~~~~~~~~~~')\n",
    "pd.DataFrame(confusion_matrix(y_train, y_predictions4), index = labels, columns = col_labels)"
   ]
  },
  {
   "cell_type": "code",
   "execution_count": 186,
   "id": "752597eb",
   "metadata": {},
   "outputs": [
    {
     "data": {
      "text/plain": [
       "(2650, 561, 241, 485)"
      ]
     },
     "execution_count": 186,
     "metadata": {},
     "output_type": "execute_result"
    }
   ],
   "source": [
    "TP, FN, FP, TN = confusion_matrix(y_train, y_predictions4, labels = [1, 0]).ravel()\n",
    "ALL = TP + TN + FP + FN\n",
    "\n",
    "TN, FN, FP, TP"
   ]
  },
  {
   "cell_type": "code",
   "execution_count": null,
   "id": "c79bd600",
   "metadata": {},
   "outputs": [],
   "source": []
  },
  {
   "cell_type": "markdown",
   "id": "d2f6af7a",
   "metadata": {},
   "source": [
    "# Model Evaluation (Validate)"
   ]
  },
  {
   "cell_type": "markdown",
   "id": "c789db79",
   "metadata": {},
   "source": [
    "#### Decision Tree"
   ]
  },
  {
   "cell_type": "code",
   "execution_count": 187,
   "id": "8d4c5464",
   "metadata": {},
   "outputs": [
    {
     "name": "stdout",
     "output_type": "stream",
     "text": [
      "Accuracy of Decision Tree Classifier on validation set: 0.7953\n",
      "Classification report, Validate:\n",
      "~~~~~~~~~~~~~~~~~~~~~~~~~~~~~~~~\n"
     ]
    },
    {
     "data": {
      "text/html": [
       "<div>\n",
       "<style scoped>\n",
       "    .dataframe tbody tr th:only-of-type {\n",
       "        vertical-align: middle;\n",
       "    }\n",
       "\n",
       "    .dataframe tbody tr th {\n",
       "        vertical-align: top;\n",
       "    }\n",
       "\n",
       "    .dataframe thead th {\n",
       "        text-align: right;\n",
       "    }\n",
       "</style>\n",
       "<table border=\"1\" class=\"dataframe\">\n",
       "  <thead>\n",
       "    <tr style=\"text-align: right;\">\n",
       "      <th></th>\n",
       "      <th>0</th>\n",
       "      <th>1</th>\n",
       "      <th>accuracy</th>\n",
       "      <th>macro avg</th>\n",
       "      <th>weighted avg</th>\n",
       "    </tr>\n",
       "  </thead>\n",
       "  <tbody>\n",
       "    <tr>\n",
       "      <th>precision</th>\n",
       "      <td>0.825897</td>\n",
       "      <td>0.662879</td>\n",
       "      <td>0.795309</td>\n",
       "      <td>0.744388</td>\n",
       "      <td>0.782564</td>\n",
       "    </tr>\n",
       "    <tr>\n",
       "      <th>recall</th>\n",
       "      <td>0.913843</td>\n",
       "      <td>0.467914</td>\n",
       "      <td>0.795309</td>\n",
       "      <td>0.690879</td>\n",
       "      <td>0.795309</td>\n",
       "    </tr>\n",
       "    <tr>\n",
       "      <th>f1-score</th>\n",
       "      <td>0.867647</td>\n",
       "      <td>0.548589</td>\n",
       "      <td>0.795309</td>\n",
       "      <td>0.708118</td>\n",
       "      <td>0.782837</td>\n",
       "    </tr>\n",
       "    <tr>\n",
       "      <th>support</th>\n",
       "      <td>1033.000000</td>\n",
       "      <td>374.000000</td>\n",
       "      <td>0.795309</td>\n",
       "      <td>1407.000000</td>\n",
       "      <td>1407.000000</td>\n",
       "    </tr>\n",
       "  </tbody>\n",
       "</table>\n",
       "</div>"
      ],
      "text/plain": [
       "                     0           1  accuracy    macro avg  weighted avg\n",
       "precision     0.825897    0.662879  0.795309     0.744388      0.782564\n",
       "recall        0.913843    0.467914  0.795309     0.690879      0.795309\n",
       "f1-score      0.867647    0.548589  0.795309     0.708118      0.782837\n",
       "support    1033.000000  374.000000  0.795309  1407.000000   1407.000000"
      ]
     },
     "execution_count": 187,
     "metadata": {},
     "output_type": "execute_result"
    }
   ],
   "source": [
    "y_predictions1 = clf.predict(X_validate)\n",
    "#estimate probability\n",
    "y_pred_proba1 = clf.predict_proba(X_validate)\n",
    "print( 'Accuracy of Decision Tree Classifier on validation set: {:.4f}'.format(clf.score(X_validate, y_validate)))\n",
    "print('Classification report, Validate:')\n",
    "print('~~~~~~~~~~~~~~~~~~~~~~~~~~~~~~~~')\n",
    "report = classification_report(y_validate, y_predictions1, output_dict = True)\n",
    "pd.DataFrame(report)"
   ]
  },
  {
   "cell_type": "markdown",
   "id": "0258bc76",
   "metadata": {},
   "source": [
    "#### Random Forest"
   ]
  },
  {
   "cell_type": "code",
   "execution_count": 188,
   "id": "273d901c",
   "metadata": {},
   "outputs": [
    {
     "name": "stdout",
     "output_type": "stream",
     "text": [
      "Accuracy of Random Forest Classifier on validation set: 0.7996\n",
      "Classification report, Validate:\n",
      "~~~~~~~~~~~~~~~~~~~~~~~~~~~~~~~~\n"
     ]
    },
    {
     "data": {
      "text/html": [
       "<div>\n",
       "<style scoped>\n",
       "    .dataframe tbody tr th:only-of-type {\n",
       "        vertical-align: middle;\n",
       "    }\n",
       "\n",
       "    .dataframe tbody tr th {\n",
       "        vertical-align: top;\n",
       "    }\n",
       "\n",
       "    .dataframe thead th {\n",
       "        text-align: right;\n",
       "    }\n",
       "</style>\n",
       "<table border=\"1\" class=\"dataframe\">\n",
       "  <thead>\n",
       "    <tr style=\"text-align: right;\">\n",
       "      <th></th>\n",
       "      <th>0</th>\n",
       "      <th>1</th>\n",
       "      <th>accuracy</th>\n",
       "      <th>macro avg</th>\n",
       "      <th>weighted avg</th>\n",
       "    </tr>\n",
       "  </thead>\n",
       "  <tbody>\n",
       "    <tr>\n",
       "      <th>precision</th>\n",
       "      <td>0.820666</td>\n",
       "      <td>0.694915</td>\n",
       "      <td>0.799574</td>\n",
       "      <td>0.757791</td>\n",
       "      <td>0.787240</td>\n",
       "    </tr>\n",
       "    <tr>\n",
       "      <th>recall</th>\n",
       "      <td>0.930300</td>\n",
       "      <td>0.438503</td>\n",
       "      <td>0.799574</td>\n",
       "      <td>0.684401</td>\n",
       "      <td>0.799574</td>\n",
       "    </tr>\n",
       "    <tr>\n",
       "      <th>f1-score</th>\n",
       "      <td>0.872051</td>\n",
       "      <td>0.537705</td>\n",
       "      <td>0.799574</td>\n",
       "      <td>0.704878</td>\n",
       "      <td>0.783177</td>\n",
       "    </tr>\n",
       "    <tr>\n",
       "      <th>support</th>\n",
       "      <td>1033.000000</td>\n",
       "      <td>374.000000</td>\n",
       "      <td>0.799574</td>\n",
       "      <td>1407.000000</td>\n",
       "      <td>1407.000000</td>\n",
       "    </tr>\n",
       "  </tbody>\n",
       "</table>\n",
       "</div>"
      ],
      "text/plain": [
       "                     0           1  accuracy    macro avg  weighted avg\n",
       "precision     0.820666    0.694915  0.799574     0.757791      0.787240\n",
       "recall        0.930300    0.438503  0.799574     0.684401      0.799574\n",
       "f1-score      0.872051    0.537705  0.799574     0.704878      0.783177\n",
       "support    1033.000000  374.000000  0.799574  1407.000000   1407.000000"
      ]
     },
     "execution_count": 188,
     "metadata": {},
     "output_type": "execute_result"
    }
   ],
   "source": [
    "#make predictions\n",
    "y_predictions2 = rf.predict(X_validate)\n",
    "#estimate probability\n",
    "y_pred_proba2 = rf.predict_proba(X_validate)\n",
    "print( 'Accuracy of Random Forest Classifier on validation set: {:.4f}'.format(rf.score(X_validate, y_validate)))\n",
    "print('Classification report, Validate:')\n",
    "print('~~~~~~~~~~~~~~~~~~~~~~~~~~~~~~~~')\n",
    "report = classification_report(y_validate, y_predictions2, output_dict = True)\n",
    "pd.DataFrame(report)"
   ]
  },
  {
   "cell_type": "markdown",
   "id": "bfa24ded",
   "metadata": {},
   "source": [
    "#### KNN"
   ]
  },
  {
   "cell_type": "code",
   "execution_count": 189,
   "id": "6c06a91a",
   "metadata": {},
   "outputs": [
    {
     "name": "stdout",
     "output_type": "stream",
     "text": [
      "Accuracy of K Nearest Neighbors Classifier on validation set: 0.7846\n",
      "Classification report, Validate:\n",
      "~~~~~~~~~~~~~~~~~~~~~~~~~~~~~~~~\n"
     ]
    },
    {
     "data": {
      "text/html": [
       "<div>\n",
       "<style scoped>\n",
       "    .dataframe tbody tr th:only-of-type {\n",
       "        vertical-align: middle;\n",
       "    }\n",
       "\n",
       "    .dataframe tbody tr th {\n",
       "        vertical-align: top;\n",
       "    }\n",
       "\n",
       "    .dataframe thead th {\n",
       "        text-align: right;\n",
       "    }\n",
       "</style>\n",
       "<table border=\"1\" class=\"dataframe\">\n",
       "  <thead>\n",
       "    <tr style=\"text-align: right;\">\n",
       "      <th></th>\n",
       "      <th>0</th>\n",
       "      <th>1</th>\n",
       "      <th>accuracy</th>\n",
       "      <th>macro avg</th>\n",
       "      <th>weighted avg</th>\n",
       "    </tr>\n",
       "  </thead>\n",
       "  <tbody>\n",
       "    <tr>\n",
       "      <th>precision</th>\n",
       "      <td>0.805184</td>\n",
       "      <td>0.668246</td>\n",
       "      <td>0.784648</td>\n",
       "      <td>0.736715</td>\n",
       "      <td>0.768784</td>\n",
       "    </tr>\n",
       "    <tr>\n",
       "      <th>recall</th>\n",
       "      <td>0.932236</td>\n",
       "      <td>0.377005</td>\n",
       "      <td>0.784648</td>\n",
       "      <td>0.654621</td>\n",
       "      <td>0.784648</td>\n",
       "    </tr>\n",
       "    <tr>\n",
       "      <th>f1-score</th>\n",
       "      <td>0.864065</td>\n",
       "      <td>0.482051</td>\n",
       "      <td>0.784648</td>\n",
       "      <td>0.673058</td>\n",
       "      <td>0.762520</td>\n",
       "    </tr>\n",
       "    <tr>\n",
       "      <th>support</th>\n",
       "      <td>1033.000000</td>\n",
       "      <td>374.000000</td>\n",
       "      <td>0.784648</td>\n",
       "      <td>1407.000000</td>\n",
       "      <td>1407.000000</td>\n",
       "    </tr>\n",
       "  </tbody>\n",
       "</table>\n",
       "</div>"
      ],
      "text/plain": [
       "                     0           1  accuracy    macro avg  weighted avg\n",
       "precision     0.805184    0.668246  0.784648     0.736715      0.768784\n",
       "recall        0.932236    0.377005  0.784648     0.654621      0.784648\n",
       "f1-score      0.864065    0.482051  0.784648     0.673058      0.762520\n",
       "support    1033.000000  374.000000  0.784648  1407.000000   1407.000000"
      ]
     },
     "execution_count": 189,
     "metadata": {},
     "output_type": "execute_result"
    }
   ],
   "source": [
    "y_predictions3 = knn.predict(X_validate)\n",
    "y_pred_proba3 = knn.predict_proba(X_validate)\n",
    "print( 'Accuracy of K Nearest Neighbors Classifier on validation set: {:.4f}'.format(knn.score(X_validate, y_validate)))\n",
    "print('Classification report, Validate:')\n",
    "print('~~~~~~~~~~~~~~~~~~~~~~~~~~~~~~~~')\n",
    "report = classification_report(y_validate, y_predictions3, output_dict = True)\n",
    "pd.DataFrame(report)"
   ]
  },
  {
   "cell_type": "markdown",
   "id": "cedeb938",
   "metadata": {},
   "source": [
    "#### Logistic Regression"
   ]
  },
  {
   "cell_type": "code",
   "execution_count": 195,
   "id": "d944f2fa",
   "metadata": {},
   "outputs": [
    {
     "name": "stdout",
     "output_type": "stream",
     "text": [
      "Accuracy of Logistic Regression classifier on validation set: 0.7989\n",
      "Classification report, Validate:\n",
      "~~~~~~~~~~~~~~~~~~~~~~~~~~~~~~~~\n"
     ]
    },
    {
     "data": {
      "text/html": [
       "<div>\n",
       "<style scoped>\n",
       "    .dataframe tbody tr th:only-of-type {\n",
       "        vertical-align: middle;\n",
       "    }\n",
       "\n",
       "    .dataframe tbody tr th {\n",
       "        vertical-align: top;\n",
       "    }\n",
       "\n",
       "    .dataframe thead th {\n",
       "        text-align: right;\n",
       "    }\n",
       "</style>\n",
       "<table border=\"1\" class=\"dataframe\">\n",
       "  <thead>\n",
       "    <tr style=\"text-align: right;\">\n",
       "      <th></th>\n",
       "      <th>0</th>\n",
       "      <th>1</th>\n",
       "      <th>accuracy</th>\n",
       "      <th>macro avg</th>\n",
       "      <th>weighted avg</th>\n",
       "    </tr>\n",
       "  </thead>\n",
       "  <tbody>\n",
       "    <tr>\n",
       "      <th>precision</th>\n",
       "      <td>0.835420</td>\n",
       "      <td>0.657439</td>\n",
       "      <td>0.798863</td>\n",
       "      <td>0.746430</td>\n",
       "      <td>0.788111</td>\n",
       "    </tr>\n",
       "    <tr>\n",
       "      <th>recall</th>\n",
       "      <td>0.904163</td>\n",
       "      <td>0.508021</td>\n",
       "      <td>0.798863</td>\n",
       "      <td>0.706092</td>\n",
       "      <td>0.798863</td>\n",
       "    </tr>\n",
       "    <tr>\n",
       "      <th>f1-score</th>\n",
       "      <td>0.868433</td>\n",
       "      <td>0.573152</td>\n",
       "      <td>0.798863</td>\n",
       "      <td>0.720793</td>\n",
       "      <td>0.789944</td>\n",
       "    </tr>\n",
       "    <tr>\n",
       "      <th>support</th>\n",
       "      <td>1033.000000</td>\n",
       "      <td>374.000000</td>\n",
       "      <td>0.798863</td>\n",
       "      <td>1407.000000</td>\n",
       "      <td>1407.000000</td>\n",
       "    </tr>\n",
       "  </tbody>\n",
       "</table>\n",
       "</div>"
      ],
      "text/plain": [
       "                     0           1  accuracy    macro avg  weighted avg\n",
       "precision     0.835420    0.657439  0.798863     0.746430      0.788111\n",
       "recall        0.904163    0.508021  0.798863     0.706092      0.798863\n",
       "f1-score      0.868433    0.573152  0.798863     0.720793      0.789944\n",
       "support    1033.000000  374.000000  0.798863  1407.000000   1407.000000"
      ]
     },
     "execution_count": 195,
     "metadata": {},
     "output_type": "execute_result"
    }
   ],
   "source": [
    "y_predictions4 = logit7.predict(X_validate[features])\n",
    "y_pred_proba4 = logit7.predict_proba(X_validate[features])\n",
    "print('Accuracy of Logistic Regression classifier on validation set: {:.4f}'\n",
    "      .format(logit7.score(X_validate[features], y_validate)))\n",
    "print('Classification report, Validate:')\n",
    "print('~~~~~~~~~~~~~~~~~~~~~~~~~~~~~~~~')\n",
    "report = classification_report(y_validate, y_predictions4, output_dict = True)\n",
    "pd.DataFrame(report)"
   ]
  },
  {
   "cell_type": "markdown",
   "id": "4c387bf6",
   "metadata": {},
   "source": [
    "### Model  Test Performance: Logistic Regression"
   ]
  },
  {
   "cell_type": "code",
   "execution_count": 196,
   "id": "516b79fd",
   "metadata": {},
   "outputs": [
    {
     "name": "stdout",
     "output_type": "stream",
     "text": [
      "Accuracy of Logistic Regression classifier on test set: 0.7767\n",
      "Classification report, Validate:\n",
      "~~~~~~~~~~~~~~~~~~~~~~~~~~~~~~~~\n"
     ]
    },
    {
     "data": {
      "text/html": [
       "<div>\n",
       "<style scoped>\n",
       "    .dataframe tbody tr th:only-of-type {\n",
       "        vertical-align: middle;\n",
       "    }\n",
       "\n",
       "    .dataframe tbody tr th {\n",
       "        vertical-align: top;\n",
       "    }\n",
       "\n",
       "    .dataframe thead th {\n",
       "        text-align: right;\n",
       "    }\n",
       "</style>\n",
       "<table border=\"1\" class=\"dataframe\">\n",
       "  <thead>\n",
       "    <tr style=\"text-align: right;\">\n",
       "      <th></th>\n",
       "      <th>0</th>\n",
       "      <th>1</th>\n",
       "      <th>accuracy</th>\n",
       "      <th>macro avg</th>\n",
       "      <th>weighted avg</th>\n",
       "    </tr>\n",
       "  </thead>\n",
       "  <tbody>\n",
       "    <tr>\n",
       "      <th>precision</th>\n",
       "      <td>0.823088</td>\n",
       "      <td>0.601695</td>\n",
       "      <td>0.776659</td>\n",
       "      <td>0.712392</td>\n",
       "      <td>0.764199</td>\n",
       "    </tr>\n",
       "    <tr>\n",
       "      <th>recall</th>\n",
       "      <td>0.886199</td>\n",
       "      <td>0.474388</td>\n",
       "      <td>0.776659</td>\n",
       "      <td>0.680293</td>\n",
       "      <td>0.776659</td>\n",
       "    </tr>\n",
       "    <tr>\n",
       "      <th>f1-score</th>\n",
       "      <td>0.853478</td>\n",
       "      <td>0.530511</td>\n",
       "      <td>0.776659</td>\n",
       "      <td>0.691995</td>\n",
       "      <td>0.767571</td>\n",
       "    </tr>\n",
       "    <tr>\n",
       "      <th>support</th>\n",
       "      <td>1239.000000</td>\n",
       "      <td>449.000000</td>\n",
       "      <td>0.776659</td>\n",
       "      <td>1688.000000</td>\n",
       "      <td>1688.000000</td>\n",
       "    </tr>\n",
       "  </tbody>\n",
       "</table>\n",
       "</div>"
      ],
      "text/plain": [
       "                     0           1  accuracy    macro avg  weighted avg\n",
       "precision     0.823088    0.601695  0.776659     0.712392      0.764199\n",
       "recall        0.886199    0.474388  0.776659     0.680293      0.776659\n",
       "f1-score      0.853478    0.530511  0.776659     0.691995      0.767571\n",
       "support    1239.000000  449.000000  0.776659  1688.000000   1688.000000"
      ]
     },
     "execution_count": 196,
     "metadata": {},
     "output_type": "execute_result"
    }
   ],
   "source": [
    "y_predictions5 = logit7.predict(X_test[features])\n",
    "y_pred_proba5 = logit7.predict_proba(X_test[features])\n",
    "\n",
    "print('Accuracy of Logistic Regression classifier on test set: {:.4f}'\n",
    "      .format(logit7.score(X_test[features], y_test)))\n",
    "print('Classification report, Validate:')\n",
    "print('~~~~~~~~~~~~~~~~~~~~~~~~~~~~~~~~')\n",
    "report = classification_report(y_test, y_predictions5, output_dict = True)\n",
    "pd.DataFrame(report)"
   ]
  },
  {
   "cell_type": "code",
   "execution_count": null,
   "id": "4808d0e6",
   "metadata": {},
   "outputs": [],
   "source": [
    "from sklearn.metrics import roc_curv, auc\n",
    "from scipy.import interp\n",
    "\n",
    "X_train2 = X_train([features])\n",
    "\n",
    "cv = StratifiedKFold(y_train,\n",
    "                    n_folds = 3,\n",
    "                    random_state = 1)\n",
    "\n",
    "fig = plt.figure(figsize = (7 , 5))\n",
    "\n",
    "mean_tpr = 0.0\n",
    "meanfpr = np.linspace(0, 1, 100)\n",
    "all_tpr = []\n",
    "\n",
    "for i in (train, test)in enumerate(cv):\n",
    "    probas = pipeline_lr.fit(X_train2[train],\n",
    "                            y_train[train]).predict_proba(X_train2[test])\n",
    "                            fpr, tpr, thresholds = roc_curve(y_train[test],\n",
    "                                                            probas[:, 1],\n",
    "                                                            pos_label = 1)\n",
    "                            mean_tpr += interp(mean_fpr, fpr, tpr)\n",
    "                            mean_tpr[0] = 0.0\n",
    "                            roc_auc = auc(fpr, tpr)\n",
    "                            plt.plot(fpr,\n",
    "                                    tpr,\n",
    "                                    1w = 1,\n",
    "                                    label = 'ROC fold %d (area = %0.2f)'\n",
    "                                    % (i + 1, roc_auc))\n",
    "plt.plot([0,1],\n",
    "        [0,1],\n",
    "        linestyle = '--',\n",
    "        color = (0.6, 0.6, 0.6),\n",
    "        label = 'Random Guessing')\n",
    "\n",
    "mean_tpr / = len(cv)\n",
    "mean_tpr[-1] = 1.0\n",
    "mean_auc  = auc(mean_fpr)"
   ]
  },
  {
   "cell_type": "code",
   "execution_count": null,
   "id": "2a810c12",
   "metadata": {},
   "outputs": [],
   "source": [
    "y_test_predictions = logit7.predict(X_test[features])\n",
    "y_test_probability = logit7.predict_proba(X_test[features])\n",
    "\n",
    "predictions = pd.DataFrame({\n",
    "    'customer_id': X_test.customer_id,\n",
    "    'predictions': y_test_predictions,\n",
    "    'probability_of_churn': y_test_probability\n",
    "})\n",
    "predictions.to_csv('predictions.csv')"
   ]
  }
 ],
 "metadata": {
  "kernelspec": {
   "display_name": "Python 3 (ipykernel)",
   "language": "python",
   "name": "python3"
  },
  "language_info": {
   "codemirror_mode": {
    "name": "ipython",
    "version": 3
   },
   "file_extension": ".py",
   "mimetype": "text/x-python",
   "name": "python",
   "nbconvert_exporter": "python",
   "pygments_lexer": "ipython3",
   "version": "3.9.7"
  }
 },
 "nbformat": 4,
 "nbformat_minor": 5
}
